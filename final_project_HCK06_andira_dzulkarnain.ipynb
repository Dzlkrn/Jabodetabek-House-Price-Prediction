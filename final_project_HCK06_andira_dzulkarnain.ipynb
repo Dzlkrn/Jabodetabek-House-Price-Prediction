{
  "cells": [
    {
      "cell_type": "markdown",
      "metadata": {
        "id": "1SrNZk8iAXst"
      },
      "source": [
        "# **1. \"Revolutionize banking with cutting-edge Machine Learning: House Price Prediction, empowering banks to make smarter lending decisions and mitigate risks effectively.\"**\n"
      ]
    },
    {
      "cell_type": "markdown",
      "metadata": {
        "id": "MEpE8RL3AXsu"
      },
      "source": [
        "# **2. INTRODUCTION**"
      ]
    },
    {
      "cell_type": "markdown",
      "metadata": {
        "id": "FtFoR9CMAXsv"
      },
      "source": [
        "\"Dalam era modern ini, ketika teknologi semakin merambah berbagai aspek kehidupan, industri perbankan juga semakin menggabungkan inovasi teknologi untuk mengoptimalkan layanan dan pengambilan keputusan. Penelitian yang saya lakukan, berfokus pada prediksi harga rumah dengan menggunakan teknik Machine Learning. Penelitian ini memiliki tujuan : memberikan dunia perbankan opsi yang kuat untuk mengantisipasi dan mengelola risiko kredit serta mengoptimalkan pengambilan keputusan dalam penilaian aset properti. Lalu Bank juga dapat menggunakan hasil prediksi ini untuk menilai kelayakan pinjaman hipotek dengan lebih tepat, mengidentifikasi potensi risiko kredit, dan merencanakan strategi investasi yang lebih cerdas.\n",
        "\n",
        "Dalam pandangan lebih luas, penelitian ini bukan hanya tentang memprediksi harga rumah semata, tetapi juga tentang memberikan solusi yang inovatif bagi dunia perbankan dalam menghadapi tantangan kompleks. Melalui penggabungan teknologi Machine Learning dengan kebijakan risiko perbankan, penelitian ini membuka peluang baru untuk pengambilan keputusan yang lebih akurat dan responsif. Dengan model prediksi harga rumah ini, kami berharap dapat memberikan kontribusi positif bagi efisiensi operasional bank serta memperkuat daya saing industri dalam menghadapi dinamika pasar properti yang selalu berubah.\""
      ]
    },
    {
      "cell_type": "markdown",
      "metadata": {
        "id": "baChGBMGAXsw"
      },
      "source": [
        "# **3. EXTERNAL LINK**"
      ]
    },
    {
      "cell_type": "markdown",
      "metadata": {
        "id": "84PQSp81AXsw"
      },
      "source": [
        "1. Dataset : https://www.kaggle.com/datasets/nafisbarizki/daftar-harga-rumah-jabodetabek\n",
        "2. Presentasi : https://www.canva.com/design/DAFrVEzKCc8/sbq4gx0e9NxikodcEyh94A/edit?utm_content=DAFrVEzKCc8&utm_campaign=designshare&utm_medium=link2&utm_source=sharebutton\n",
        "3. Dashboard : https://lookerstudio.google.com/reporting/6064f6cd-4d72-4787-83b2-cb650f59158f/page/1M\n",
        "4. Deployment : https://huggingface.co/spaces/Dzlkrn/House_Price_Prediction"
      ]
    },
    {
      "cell_type": "markdown",
      "metadata": {
        "id": "RNzJ245WAXsw"
      },
      "source": [
        "# **4. WORKING AREA**"
      ]
    },
    {
      "cell_type": "markdown",
      "metadata": {
        "id": "SsVUVZjHAXsw"
      },
      "source": [
        "## **A. LIBRARIES & DATASET LOADING**"
      ]
    },
    {
      "cell_type": "code",
      "source": [
        "!pip install phik\n",
        "!pip install feature_engine\n",
        "!pip install dataprep\n"
      ],
      "metadata": {
        "colab": {
          "base_uri": "https://localhost:8080/"
        },
        "id": "eFsJ9FmxBTiE",
        "outputId": "bb80d1b9-ddbf-4399-e106-24633796f5ab"
      },
      "execution_count": 5,
      "outputs": [
        {
          "output_type": "stream",
          "name": "stdout",
          "text": [
            "Requirement already satisfied: phik in /usr/local/lib/python3.10/dist-packages (0.12.3)\n",
            "Requirement already satisfied: numpy>=1.18.0 in /usr/local/lib/python3.10/dist-packages (from phik) (1.23.5)\n",
            "Requirement already satisfied: scipy>=1.5.2 in /usr/local/lib/python3.10/dist-packages (from phik) (1.10.1)\n",
            "Requirement already satisfied: pandas>=0.25.1 in /usr/local/lib/python3.10/dist-packages (from phik) (1.5.3)\n",
            "Requirement already satisfied: matplotlib>=2.2.3 in /usr/local/lib/python3.10/dist-packages (from phik) (3.7.1)\n",
            "Requirement already satisfied: joblib>=0.14.1 in /usr/local/lib/python3.10/dist-packages (from phik) (1.3.2)\n",
            "Requirement already satisfied: contourpy>=1.0.1 in /usr/local/lib/python3.10/dist-packages (from matplotlib>=2.2.3->phik) (1.1.0)\n",
            "Requirement already satisfied: cycler>=0.10 in /usr/local/lib/python3.10/dist-packages (from matplotlib>=2.2.3->phik) (0.11.0)\n",
            "Requirement already satisfied: fonttools>=4.22.0 in /usr/local/lib/python3.10/dist-packages (from matplotlib>=2.2.3->phik) (4.42.0)\n",
            "Requirement already satisfied: kiwisolver>=1.0.1 in /usr/local/lib/python3.10/dist-packages (from matplotlib>=2.2.3->phik) (1.4.4)\n",
            "Requirement already satisfied: packaging>=20.0 in /usr/local/lib/python3.10/dist-packages (from matplotlib>=2.2.3->phik) (23.1)\n",
            "Requirement already satisfied: pillow>=6.2.0 in /usr/local/lib/python3.10/dist-packages (from matplotlib>=2.2.3->phik) (9.4.0)\n",
            "Requirement already satisfied: pyparsing>=2.3.1 in /usr/local/lib/python3.10/dist-packages (from matplotlib>=2.2.3->phik) (3.1.1)\n",
            "Requirement already satisfied: python-dateutil>=2.7 in /usr/local/lib/python3.10/dist-packages (from matplotlib>=2.2.3->phik) (2.8.2)\n",
            "Requirement already satisfied: pytz>=2020.1 in /usr/local/lib/python3.10/dist-packages (from pandas>=0.25.1->phik) (2023.3)\n",
            "Requirement already satisfied: six>=1.5 in /usr/local/lib/python3.10/dist-packages (from python-dateutil>=2.7->matplotlib>=2.2.3->phik) (1.16.0)\n",
            "Requirement already satisfied: feature_engine in /usr/local/lib/python3.10/dist-packages (1.6.1)\n",
            "Requirement already satisfied: numpy>=1.18.2 in /usr/local/lib/python3.10/dist-packages (from feature_engine) (1.23.5)\n",
            "Requirement already satisfied: pandas>=1.0.3 in /usr/local/lib/python3.10/dist-packages (from feature_engine) (1.5.3)\n",
            "Requirement already satisfied: scikit-learn>=1.0.0 in /usr/local/lib/python3.10/dist-packages (from feature_engine) (1.2.2)\n",
            "Requirement already satisfied: scipy>=1.4.1 in /usr/local/lib/python3.10/dist-packages (from feature_engine) (1.10.1)\n",
            "Requirement already satisfied: statsmodels>=0.11.1 in /usr/local/lib/python3.10/dist-packages (from feature_engine) (0.14.0)\n",
            "Requirement already satisfied: python-dateutil>=2.8.1 in /usr/local/lib/python3.10/dist-packages (from pandas>=1.0.3->feature_engine) (2.8.2)\n",
            "Requirement already satisfied: pytz>=2020.1 in /usr/local/lib/python3.10/dist-packages (from pandas>=1.0.3->feature_engine) (2023.3)\n",
            "Requirement already satisfied: joblib>=1.1.1 in /usr/local/lib/python3.10/dist-packages (from scikit-learn>=1.0.0->feature_engine) (1.3.2)\n",
            "Requirement already satisfied: threadpoolctl>=2.0.0 in /usr/local/lib/python3.10/dist-packages (from scikit-learn>=1.0.0->feature_engine) (3.2.0)\n",
            "Requirement already satisfied: patsy>=0.5.2 in /usr/local/lib/python3.10/dist-packages (from statsmodels>=0.11.1->feature_engine) (0.5.3)\n",
            "Requirement already satisfied: packaging>=21.3 in /usr/local/lib/python3.10/dist-packages (from statsmodels>=0.11.1->feature_engine) (23.1)\n",
            "Requirement already satisfied: six in /usr/local/lib/python3.10/dist-packages (from patsy>=0.5.2->statsmodels>=0.11.1->feature_engine) (1.16.0)\n",
            "Requirement already satisfied: dataprep in /usr/local/lib/python3.10/dist-packages (0.4.5)\n",
            "Requirement already satisfied: aiohttp<4.0,>=3.6 in /usr/local/lib/python3.10/dist-packages (from dataprep) (3.8.5)\n",
            "Requirement already satisfied: bokeh<3,>=2 in /usr/local/lib/python3.10/dist-packages (from dataprep) (2.4.3)\n",
            "Requirement already satisfied: dask[array,dataframe,delayed]>=2022.3.0 in /usr/local/lib/python3.10/dist-packages (from dataprep) (2023.8.0)\n",
            "Requirement already satisfied: flask<3,>=2 in /usr/local/lib/python3.10/dist-packages (from dataprep) (2.2.5)\n",
            "Requirement already satisfied: flask_cors<4.0.0,>=3.0.10 in /usr/local/lib/python3.10/dist-packages (from dataprep) (3.0.10)\n",
            "Requirement already satisfied: ipywidgets<8.0,>=7.5 in /usr/local/lib/python3.10/dist-packages (from dataprep) (7.7.1)\n",
            "Requirement already satisfied: jinja2<3.1,>=3.0 in /usr/local/lib/python3.10/dist-packages (from dataprep) (3.0.3)\n",
            "Requirement already satisfied: jsonpath-ng<2.0,>=1.5 in /usr/local/lib/python3.10/dist-packages (from dataprep) (1.5.3)\n",
            "Requirement already satisfied: metaphone<0.7,>=0.6 in /usr/local/lib/python3.10/dist-packages (from dataprep) (0.6)\n",
            "Requirement already satisfied: nltk<4.0.0,>=3.6.7 in /usr/local/lib/python3.10/dist-packages (from dataprep) (3.8.1)\n",
            "Requirement already satisfied: numpy<2.0,>=1.21 in /usr/local/lib/python3.10/dist-packages (from dataprep) (1.23.5)\n",
            "Requirement already satisfied: pandas<2.0,>=1.1 in /usr/local/lib/python3.10/dist-packages (from dataprep) (1.5.3)\n",
            "Requirement already satisfied: pydantic<2.0,>=1.6 in /usr/local/lib/python3.10/dist-packages (from dataprep) (1.10.12)\n",
            "Requirement already satisfied: pydot<2.0.0,>=1.4.2 in /usr/local/lib/python3.10/dist-packages (from dataprep) (1.4.2)\n",
            "Requirement already satisfied: python-crfsuite==0.9.8 in /usr/local/lib/python3.10/dist-packages (from dataprep) (0.9.8)\n",
            "Requirement already satisfied: python-stdnum<2.0,>=1.16 in /usr/local/lib/python3.10/dist-packages (from dataprep) (1.18)\n",
            "Requirement already satisfied: rapidfuzz<3.0.0,>=2.1.2 in /usr/local/lib/python3.10/dist-packages (from dataprep) (2.15.1)\n",
            "Requirement already satisfied: regex<2022.0.0,>=2021.8.3 in /usr/local/lib/python3.10/dist-packages (from dataprep) (2021.11.10)\n",
            "Requirement already satisfied: scipy<2.0,>=1.8 in /usr/local/lib/python3.10/dist-packages (from dataprep) (1.10.1)\n",
            "Requirement already satisfied: sqlalchemy==1.3.24 in /usr/local/lib/python3.10/dist-packages (from dataprep) (1.3.24)\n",
            "Requirement already satisfied: tqdm<5.0,>=4.48 in /usr/local/lib/python3.10/dist-packages (from dataprep) (4.66.0)\n",
            "Requirement already satisfied: varname<0.9.0,>=0.8.1 in /usr/local/lib/python3.10/dist-packages (from dataprep) (0.8.3)\n",
            "Requirement already satisfied: wordcloud<2.0,>=1.8 in /usr/local/lib/python3.10/dist-packages (from dataprep) (1.9.2)\n",
            "Requirement already satisfied: attrs>=17.3.0 in /usr/local/lib/python3.10/dist-packages (from aiohttp<4.0,>=3.6->dataprep) (23.1.0)\n",
            "Requirement already satisfied: charset-normalizer<4.0,>=2.0 in /usr/local/lib/python3.10/dist-packages (from aiohttp<4.0,>=3.6->dataprep) (3.2.0)\n",
            "Requirement already satisfied: multidict<7.0,>=4.5 in /usr/local/lib/python3.10/dist-packages (from aiohttp<4.0,>=3.6->dataprep) (6.0.4)\n",
            "Requirement already satisfied: async-timeout<5.0,>=4.0.0a3 in /usr/local/lib/python3.10/dist-packages (from aiohttp<4.0,>=3.6->dataprep) (4.0.2)\n",
            "Requirement already satisfied: yarl<2.0,>=1.0 in /usr/local/lib/python3.10/dist-packages (from aiohttp<4.0,>=3.6->dataprep) (1.9.2)\n",
            "Requirement already satisfied: frozenlist>=1.1.1 in /usr/local/lib/python3.10/dist-packages (from aiohttp<4.0,>=3.6->dataprep) (1.4.0)\n",
            "Requirement already satisfied: aiosignal>=1.1.2 in /usr/local/lib/python3.10/dist-packages (from aiohttp<4.0,>=3.6->dataprep) (1.3.1)\n",
            "Requirement already satisfied: packaging>=16.8 in /usr/local/lib/python3.10/dist-packages (from bokeh<3,>=2->dataprep) (23.1)\n",
            "Requirement already satisfied: pillow>=7.1.0 in /usr/local/lib/python3.10/dist-packages (from bokeh<3,>=2->dataprep) (9.4.0)\n",
            "Requirement already satisfied: PyYAML>=3.10 in /usr/local/lib/python3.10/dist-packages (from bokeh<3,>=2->dataprep) (6.0.1)\n",
            "Requirement already satisfied: tornado>=5.1 in /usr/local/lib/python3.10/dist-packages (from bokeh<3,>=2->dataprep) (6.3.1)\n",
            "Requirement already satisfied: typing-extensions>=3.10.0 in /usr/local/lib/python3.10/dist-packages (from bokeh<3,>=2->dataprep) (4.7.1)\n",
            "Requirement already satisfied: click>=8.0 in /usr/local/lib/python3.10/dist-packages (from dask[array,dataframe,delayed]>=2022.3.0->dataprep) (8.1.6)\n",
            "Requirement already satisfied: cloudpickle>=1.5.0 in /usr/local/lib/python3.10/dist-packages (from dask[array,dataframe,delayed]>=2022.3.0->dataprep) (2.2.1)\n",
            "Requirement already satisfied: fsspec>=2021.09.0 in /usr/local/lib/python3.10/dist-packages (from dask[array,dataframe,delayed]>=2022.3.0->dataprep) (2023.6.0)\n",
            "Requirement already satisfied: partd>=1.2.0 in /usr/local/lib/python3.10/dist-packages (from dask[array,dataframe,delayed]>=2022.3.0->dataprep) (1.4.0)\n",
            "Requirement already satisfied: toolz>=0.10.0 in /usr/local/lib/python3.10/dist-packages (from dask[array,dataframe,delayed]>=2022.3.0->dataprep) (0.12.0)\n",
            "Requirement already satisfied: importlib-metadata>=4.13.0 in /usr/local/lib/python3.10/dist-packages (from dask[array,dataframe,delayed]>=2022.3.0->dataprep) (6.8.0)\n",
            "Requirement already satisfied: Werkzeug>=2.2.2 in /usr/local/lib/python3.10/dist-packages (from flask<3,>=2->dataprep) (2.3.6)\n",
            "Requirement already satisfied: itsdangerous>=2.0 in /usr/local/lib/python3.10/dist-packages (from flask<3,>=2->dataprep) (2.1.2)\n",
            "Requirement already satisfied: Six in /usr/local/lib/python3.10/dist-packages (from flask_cors<4.0.0,>=3.0.10->dataprep) (1.16.0)\n",
            "Requirement already satisfied: ipykernel>=4.5.1 in /usr/local/lib/python3.10/dist-packages (from ipywidgets<8.0,>=7.5->dataprep) (5.5.6)\n",
            "Requirement already satisfied: ipython-genutils~=0.2.0 in /usr/local/lib/python3.10/dist-packages (from ipywidgets<8.0,>=7.5->dataprep) (0.2.0)\n",
            "Requirement already satisfied: traitlets>=4.3.1 in /usr/local/lib/python3.10/dist-packages (from ipywidgets<8.0,>=7.5->dataprep) (5.7.1)\n",
            "Requirement already satisfied: widgetsnbextension~=3.6.0 in /usr/local/lib/python3.10/dist-packages (from ipywidgets<8.0,>=7.5->dataprep) (3.6.5)\n",
            "Requirement already satisfied: ipython>=4.0.0 in /usr/local/lib/python3.10/dist-packages (from ipywidgets<8.0,>=7.5->dataprep) (7.34.0)\n",
            "Requirement already satisfied: jupyterlab-widgets>=1.0.0 in /usr/local/lib/python3.10/dist-packages (from ipywidgets<8.0,>=7.5->dataprep) (3.0.8)\n",
            "Requirement already satisfied: MarkupSafe>=2.0 in /usr/local/lib/python3.10/dist-packages (from jinja2<3.1,>=3.0->dataprep) (2.1.3)\n",
            "Requirement already satisfied: ply in /usr/local/lib/python3.10/dist-packages (from jsonpath-ng<2.0,>=1.5->dataprep) (3.11)\n",
            "Requirement already satisfied: decorator in /usr/local/lib/python3.10/dist-packages (from jsonpath-ng<2.0,>=1.5->dataprep) (4.4.2)\n",
            "Requirement already satisfied: joblib in /usr/local/lib/python3.10/dist-packages (from nltk<4.0.0,>=3.6.7->dataprep) (1.3.2)\n",
            "Requirement already satisfied: python-dateutil>=2.8.1 in /usr/local/lib/python3.10/dist-packages (from pandas<2.0,>=1.1->dataprep) (2.8.2)\n",
            "Requirement already satisfied: pytz>=2020.1 in /usr/local/lib/python3.10/dist-packages (from pandas<2.0,>=1.1->dataprep) (2023.3)\n",
            "Requirement already satisfied: pyparsing>=2.1.4 in /usr/local/lib/python3.10/dist-packages (from pydot<2.0.0,>=1.4.2->dataprep) (3.1.1)\n",
            "Requirement already satisfied: asttokens<3.0.0,>=2.0.0 in /usr/local/lib/python3.10/dist-packages (from varname<0.9.0,>=0.8.1->dataprep) (2.2.1)\n",
            "Requirement already satisfied: executing<0.9.0,>=0.8.3 in /usr/local/lib/python3.10/dist-packages (from varname<0.9.0,>=0.8.1->dataprep) (0.8.3)\n",
            "Requirement already satisfied: pure_eval<1.0.0 in /usr/local/lib/python3.10/dist-packages (from varname<0.9.0,>=0.8.1->dataprep) (0.2.2)\n",
            "Requirement already satisfied: matplotlib in /usr/local/lib/python3.10/dist-packages (from wordcloud<2.0,>=1.8->dataprep) (3.7.1)\n",
            "Requirement already satisfied: zipp>=0.5 in /usr/local/lib/python3.10/dist-packages (from importlib-metadata>=4.13.0->dask[array,dataframe,delayed]>=2022.3.0->dataprep) (3.16.2)\n",
            "Requirement already satisfied: jupyter-client in /usr/local/lib/python3.10/dist-packages (from ipykernel>=4.5.1->ipywidgets<8.0,>=7.5->dataprep) (6.1.12)\n",
            "Requirement already satisfied: setuptools>=18.5 in /usr/local/lib/python3.10/dist-packages (from ipython>=4.0.0->ipywidgets<8.0,>=7.5->dataprep) (67.7.2)\n",
            "Requirement already satisfied: jedi>=0.16 in /usr/local/lib/python3.10/dist-packages (from ipython>=4.0.0->ipywidgets<8.0,>=7.5->dataprep) (0.19.0)\n",
            "Requirement already satisfied: pickleshare in /usr/local/lib/python3.10/dist-packages (from ipython>=4.0.0->ipywidgets<8.0,>=7.5->dataprep) (0.7.5)\n",
            "Requirement already satisfied: prompt-toolkit!=3.0.0,!=3.0.1,<3.1.0,>=2.0.0 in /usr/local/lib/python3.10/dist-packages (from ipython>=4.0.0->ipywidgets<8.0,>=7.5->dataprep) (3.0.39)\n",
            "Requirement already satisfied: pygments in /usr/local/lib/python3.10/dist-packages (from ipython>=4.0.0->ipywidgets<8.0,>=7.5->dataprep) (2.16.1)\n",
            "Requirement already satisfied: backcall in /usr/local/lib/python3.10/dist-packages (from ipython>=4.0.0->ipywidgets<8.0,>=7.5->dataprep) (0.2.0)\n",
            "Requirement already satisfied: matplotlib-inline in /usr/local/lib/python3.10/dist-packages (from ipython>=4.0.0->ipywidgets<8.0,>=7.5->dataprep) (0.1.6)\n",
            "Requirement already satisfied: pexpect>4.3 in /usr/local/lib/python3.10/dist-packages (from ipython>=4.0.0->ipywidgets<8.0,>=7.5->dataprep) (4.8.0)\n",
            "Requirement already satisfied: locket in /usr/local/lib/python3.10/dist-packages (from partd>=1.2.0->dask[array,dataframe,delayed]>=2022.3.0->dataprep) (1.0.0)\n",
            "Requirement already satisfied: notebook>=4.4.1 in /usr/local/lib/python3.10/dist-packages (from widgetsnbextension~=3.6.0->ipywidgets<8.0,>=7.5->dataprep) (6.4.8)\n",
            "Requirement already satisfied: idna>=2.0 in /usr/local/lib/python3.10/dist-packages (from yarl<2.0,>=1.0->aiohttp<4.0,>=3.6->dataprep) (3.4)\n",
            "Requirement already satisfied: contourpy>=1.0.1 in /usr/local/lib/python3.10/dist-packages (from matplotlib->wordcloud<2.0,>=1.8->dataprep) (1.1.0)\n",
            "Requirement already satisfied: cycler>=0.10 in /usr/local/lib/python3.10/dist-packages (from matplotlib->wordcloud<2.0,>=1.8->dataprep) (0.11.0)\n",
            "Requirement already satisfied: fonttools>=4.22.0 in /usr/local/lib/python3.10/dist-packages (from matplotlib->wordcloud<2.0,>=1.8->dataprep) (4.42.0)\n",
            "Requirement already satisfied: kiwisolver>=1.0.1 in /usr/local/lib/python3.10/dist-packages (from matplotlib->wordcloud<2.0,>=1.8->dataprep) (1.4.4)\n",
            "Requirement already satisfied: parso<0.9.0,>=0.8.3 in /usr/local/lib/python3.10/dist-packages (from jedi>=0.16->ipython>=4.0.0->ipywidgets<8.0,>=7.5->dataprep) (0.8.3)\n",
            "Requirement already satisfied: pyzmq>=17 in /usr/local/lib/python3.10/dist-packages (from notebook>=4.4.1->widgetsnbextension~=3.6.0->ipywidgets<8.0,>=7.5->dataprep) (23.2.1)\n",
            "Requirement already satisfied: argon2-cffi in /usr/local/lib/python3.10/dist-packages (from notebook>=4.4.1->widgetsnbextension~=3.6.0->ipywidgets<8.0,>=7.5->dataprep) (21.3.0)\n",
            "Requirement already satisfied: jupyter-core>=4.6.1 in /usr/local/lib/python3.10/dist-packages (from notebook>=4.4.1->widgetsnbextension~=3.6.0->ipywidgets<8.0,>=7.5->dataprep) (5.3.1)\n",
            "Requirement already satisfied: nbformat in /usr/local/lib/python3.10/dist-packages (from notebook>=4.4.1->widgetsnbextension~=3.6.0->ipywidgets<8.0,>=7.5->dataprep) (5.9.2)\n",
            "Requirement already satisfied: nbconvert in /usr/local/lib/python3.10/dist-packages (from notebook>=4.4.1->widgetsnbextension~=3.6.0->ipywidgets<8.0,>=7.5->dataprep) (6.5.4)\n",
            "Requirement already satisfied: nest-asyncio>=1.5 in /usr/local/lib/python3.10/dist-packages (from notebook>=4.4.1->widgetsnbextension~=3.6.0->ipywidgets<8.0,>=7.5->dataprep) (1.5.7)\n",
            "Requirement already satisfied: Send2Trash>=1.8.0 in /usr/local/lib/python3.10/dist-packages (from notebook>=4.4.1->widgetsnbextension~=3.6.0->ipywidgets<8.0,>=7.5->dataprep) (1.8.2)\n",
            "Requirement already satisfied: terminado>=0.8.3 in /usr/local/lib/python3.10/dist-packages (from notebook>=4.4.1->widgetsnbextension~=3.6.0->ipywidgets<8.0,>=7.5->dataprep) (0.17.1)\n",
            "Requirement already satisfied: prometheus-client in /usr/local/lib/python3.10/dist-packages (from notebook>=4.4.1->widgetsnbextension~=3.6.0->ipywidgets<8.0,>=7.5->dataprep) (0.17.1)\n",
            "Requirement already satisfied: ptyprocess>=0.5 in /usr/local/lib/python3.10/dist-packages (from pexpect>4.3->ipython>=4.0.0->ipywidgets<8.0,>=7.5->dataprep) (0.7.0)\n",
            "Requirement already satisfied: wcwidth in /usr/local/lib/python3.10/dist-packages (from prompt-toolkit!=3.0.0,!=3.0.1,<3.1.0,>=2.0.0->ipython>=4.0.0->ipywidgets<8.0,>=7.5->dataprep) (0.2.6)\n",
            "Requirement already satisfied: platformdirs>=2.5 in /usr/local/lib/python3.10/dist-packages (from jupyter-core>=4.6.1->notebook>=4.4.1->widgetsnbextension~=3.6.0->ipywidgets<8.0,>=7.5->dataprep) (3.10.0)\n",
            "Requirement already satisfied: argon2-cffi-bindings in /usr/local/lib/python3.10/dist-packages (from argon2-cffi->notebook>=4.4.1->widgetsnbextension~=3.6.0->ipywidgets<8.0,>=7.5->dataprep) (21.2.0)\n",
            "Requirement already satisfied: lxml in /usr/local/lib/python3.10/dist-packages (from nbconvert->notebook>=4.4.1->widgetsnbextension~=3.6.0->ipywidgets<8.0,>=7.5->dataprep) (4.9.3)\n",
            "Requirement already satisfied: beautifulsoup4 in /usr/local/lib/python3.10/dist-packages (from nbconvert->notebook>=4.4.1->widgetsnbextension~=3.6.0->ipywidgets<8.0,>=7.5->dataprep) (4.11.2)\n",
            "Requirement already satisfied: bleach in /usr/local/lib/python3.10/dist-packages (from nbconvert->notebook>=4.4.1->widgetsnbextension~=3.6.0->ipywidgets<8.0,>=7.5->dataprep) (6.0.0)\n",
            "Requirement already satisfied: defusedxml in /usr/local/lib/python3.10/dist-packages (from nbconvert->notebook>=4.4.1->widgetsnbextension~=3.6.0->ipywidgets<8.0,>=7.5->dataprep) (0.7.1)\n",
            "Requirement already satisfied: entrypoints>=0.2.2 in /usr/local/lib/python3.10/dist-packages (from nbconvert->notebook>=4.4.1->widgetsnbextension~=3.6.0->ipywidgets<8.0,>=7.5->dataprep) (0.4)\n",
            "Requirement already satisfied: jupyterlab-pygments in /usr/local/lib/python3.10/dist-packages (from nbconvert->notebook>=4.4.1->widgetsnbextension~=3.6.0->ipywidgets<8.0,>=7.5->dataprep) (0.2.2)\n",
            "Requirement already satisfied: mistune<2,>=0.8.1 in /usr/local/lib/python3.10/dist-packages (from nbconvert->notebook>=4.4.1->widgetsnbextension~=3.6.0->ipywidgets<8.0,>=7.5->dataprep) (0.8.4)\n",
            "Requirement already satisfied: nbclient>=0.5.0 in /usr/local/lib/python3.10/dist-packages (from nbconvert->notebook>=4.4.1->widgetsnbextension~=3.6.0->ipywidgets<8.0,>=7.5->dataprep) (0.8.0)\n",
            "Requirement already satisfied: pandocfilters>=1.4.1 in /usr/local/lib/python3.10/dist-packages (from nbconvert->notebook>=4.4.1->widgetsnbextension~=3.6.0->ipywidgets<8.0,>=7.5->dataprep) (1.5.0)\n",
            "Requirement already satisfied: tinycss2 in /usr/local/lib/python3.10/dist-packages (from nbconvert->notebook>=4.4.1->widgetsnbextension~=3.6.0->ipywidgets<8.0,>=7.5->dataprep) (1.2.1)\n",
            "Requirement already satisfied: fastjsonschema in /usr/local/lib/python3.10/dist-packages (from nbformat->notebook>=4.4.1->widgetsnbextension~=3.6.0->ipywidgets<8.0,>=7.5->dataprep) (2.18.0)\n",
            "Requirement already satisfied: jsonschema>=2.6 in /usr/local/lib/python3.10/dist-packages (from nbformat->notebook>=4.4.1->widgetsnbextension~=3.6.0->ipywidgets<8.0,>=7.5->dataprep) (4.19.0)\n",
            "Requirement already satisfied: jsonschema-specifications>=2023.03.6 in /usr/local/lib/python3.10/dist-packages (from jsonschema>=2.6->nbformat->notebook>=4.4.1->widgetsnbextension~=3.6.0->ipywidgets<8.0,>=7.5->dataprep) (2023.7.1)\n",
            "Requirement already satisfied: referencing>=0.28.4 in /usr/local/lib/python3.10/dist-packages (from jsonschema>=2.6->nbformat->notebook>=4.4.1->widgetsnbextension~=3.6.0->ipywidgets<8.0,>=7.5->dataprep) (0.30.2)\n",
            "Requirement already satisfied: rpds-py>=0.7.1 in /usr/local/lib/python3.10/dist-packages (from jsonschema>=2.6->nbformat->notebook>=4.4.1->widgetsnbextension~=3.6.0->ipywidgets<8.0,>=7.5->dataprep) (0.9.2)\n",
            "Requirement already satisfied: cffi>=1.0.1 in /usr/local/lib/python3.10/dist-packages (from argon2-cffi-bindings->argon2-cffi->notebook>=4.4.1->widgetsnbextension~=3.6.0->ipywidgets<8.0,>=7.5->dataprep) (1.15.1)\n",
            "Requirement already satisfied: soupsieve>1.2 in /usr/local/lib/python3.10/dist-packages (from beautifulsoup4->nbconvert->notebook>=4.4.1->widgetsnbextension~=3.6.0->ipywidgets<8.0,>=7.5->dataprep) (2.4.1)\n",
            "Requirement already satisfied: webencodings in /usr/local/lib/python3.10/dist-packages (from bleach->nbconvert->notebook>=4.4.1->widgetsnbextension~=3.6.0->ipywidgets<8.0,>=7.5->dataprep) (0.5.1)\n",
            "Requirement already satisfied: pycparser in /usr/local/lib/python3.10/dist-packages (from cffi>=1.0.1->argon2-cffi-bindings->argon2-cffi->notebook>=4.4.1->widgetsnbextension~=3.6.0->ipywidgets<8.0,>=7.5->dataprep) (2.21)\n"
          ]
        }
      ]
    },
    {
      "cell_type": "code",
      "execution_count": 6,
      "metadata": {
        "id": "08aemWTIAXsw"
      },
      "outputs": [],
      "source": [
        "import pandas as pd\n",
        "import numpy as np\n",
        "import matplotlib.pyplot as plt\n",
        "import seaborn as sns\n",
        "import warnings\n",
        "import joblib\n",
        "import phik\n",
        "import imblearn\n",
        "\n",
        "from dataprep.eda import create_report\n",
        "from numpy import array\n",
        "from feature_engine.outliers import Winsorizer\n",
        "from sklearn.impute import SimpleImputer, KNNImputer\n",
        "from sklearn.preprocessing import StandardScaler, OneHotEncoder, FunctionTransformer\n",
        "from sklearn.pipeline import Pipeline\n",
        "from sklearn.compose import ColumnTransformer, TransformedTargetRegressor\n",
        "from sklearn.model_selection import GridSearchCV, cross_val_score, KFold, train_test_split\n",
        "from sklearn.metrics import accuracy_score, precision_score, recall_score, f1_score, r2_score, mean_squared_error, mean_absolute_error, roc_auc_score, ConfusionMatrixDisplay, confusion_matrix, classification_report\n",
        "from sklearn.inspection import permutation_importance\n",
        "from sklearn.linear_model import LinearRegression, Ridge\n",
        "from sklearn.feature_selection import SelectFromModel\n",
        "from sklearn.base import BaseEstimator, TransformerMixin\n",
        "from imblearn.over_sampling import SMOTENC\n",
        "from sklearn.ensemble import RandomForestRegressor\n",
        "\n",
        "warnings.filterwarnings(action='ignore')\n",
        "\n",
        "%matplotlib inline\n"
      ]
    },
    {
      "cell_type": "code",
      "execution_count": 7,
      "metadata": {
        "colab": {
          "base_uri": "https://localhost:8080/",
          "height": 1000
        },
        "id": "FWAMEu0RAXsy",
        "outputId": "0beed7c4-843f-4464-97ce-9366a9a18420"
      },
      "outputs": [
        {
          "output_type": "execute_result",
          "data": {
            "text/plain": [
              "                                                    url   price_in_rp  \\\n",
              "0     https://www.rumah123.com/properti/bekasi/hos11...  2.990000e+09   \n",
              "1     https://www.rumah123.com/properti/bekasi/hos10...  1.270000e+09   \n",
              "2     https://www.rumah123.com/properti/bekasi/hos10...  1.950000e+09   \n",
              "3     https://www.rumah123.com/properti/bekasi/hos10...  3.300000e+09   \n",
              "4     https://www.rumah123.com/properti/bekasi/hos10...  4.500000e+09   \n",
              "...                                                 ...           ...   \n",
              "3548  https://www.rumah123.com/properti/tangerang/ho...  5.880000e+08   \n",
              "3549  https://www.rumah123.com/properti/tangerang/ho...  7.850000e+08   \n",
              "3550  https://www.rumah123.com/properti/tangerang/ho...  7.550000e+08   \n",
              "3551  https://www.rumah123.com/properti/tangerang/ho...  8.000000e+08   \n",
              "3552  https://www.rumah123.com/properti/tangerang/ho...  6.550000e+08   \n",
              "\n",
              "                                                  title  \\\n",
              "0     Rumah cantik Sumarecon Bekasi\\nLingkungan asri...   \n",
              "1             Rumah Kekinian, Magenta Summarecon Bekasi   \n",
              "2     Rumah Cantik 2 Lantai Cluster Bluebell Summare...   \n",
              "3     Rumah Mewah 2Lantai L10x18 C di Cluster VERNON...   \n",
              "4     Rumah Hoek di Cluster Maple Summarecon Bekasi,...   \n",
              "...                                                 ...   \n",
              "3548   Terbaru Cluster Minimalis Sudimara Dekat Stasiun   \n",
              "3549  Rumah Modern Asri dan Nyaman Bebas Banjir Loka...   \n",
              "3550  Rumah Mewah Murah 2 Lantai Gratis Biaya Biaya ...   \n",
              "3551  Rumah 2 Lantai Dekat Perkantoran BSD City AEON...   \n",
              "3552  Rumah 2 Lantai Harga 1 Lantai Di Pamulang, Fre...   \n",
              "\n",
              "                               address               district        city  \\\n",
              "0            Summarecon Bekasi, Bekasi      Summarecon Bekasi      Bekasi   \n",
              "1            Summarecon Bekasi, Bekasi      Summarecon Bekasi      Bekasi   \n",
              "2            Summarecon Bekasi, Bekasi      Summarecon Bekasi      Bekasi   \n",
              "3            Summarecon Bekasi, Bekasi      Summarecon Bekasi      Bekasi   \n",
              "4            Summarecon Bekasi, Bekasi      Summarecon Bekasi      Bekasi   \n",
              "...                                ...                    ...         ...   \n",
              "3548                Jombang, Tangerang                Jombang   Tangerang   \n",
              "3549         Lengkong Kulon, Tangerang         Lengkong Kulon   Tangerang   \n",
              "3550         Lengkong Kulon, Tangerang         Lengkong Kulon   Tangerang   \n",
              "3551  BSD Provance Parkland, Tangerang  BSD Provance Parkland   Tangerang   \n",
              "3552               Sudimara, Tangerang               Sudimara   Tangerang   \n",
              "\n",
              "           lat        long                                         facilities  \\\n",
              "0    -6.223945  106.986275       Tempat Jemuran, Jalur Telepon, Taman,  Taman   \n",
              "1    -6.223945  106.986275                                              Taman   \n",
              "2    -6.223945  106.986275   Jogging Track,  Kolam Renang, Masjid,  Taman,...   \n",
              "3    -6.223945  106.986275   Jalur Telepon,  Jogging Track, Track Lari,  K...   \n",
              "4    -6.223945  106.986275   Jogging Track,  Kolam Renang, Taman, Jalur Te...   \n",
              "...        ...         ...                                                ...   \n",
              "3548 -6.296615  106.704601  Masjid,  Taman, Tempat Jemuran, Keamanan 24 ja...   \n",
              "3549 -6.283454  106.638775  Masjid,  Keamanan,  Jogging Track,  Taman, Tem...   \n",
              "3550 -6.283454  106.638775   Keamanan,  Taman, Jogging Track, Tempat Jemur...   \n",
              "3551 -6.288237  106.665859  Tempat Jemuran, Keamanan, Keamanan 24 jam, Was...   \n",
              "3552 -6.296963  106.710635  Kulkas, Masjid,  Taman, Lapangan Bola, Tempat ...   \n",
              "\n",
              "     property_type  ... electricity  maid_bedrooms  maid_bathrooms  floors  \\\n",
              "0            rumah  ...    4400 mah            0.0             1.0     2.0   \n",
              "1            rumah  ...    2200 mah            0.0             0.0     2.0   \n",
              "2            rumah  ...    2200 mah            1.0             1.0     2.0   \n",
              "3            rumah  ...    3500 mah            1.0             1.0     2.0   \n",
              "4            rumah  ...    3500 mah            1.0             1.0     2.0   \n",
              "...            ...  ...         ...            ...             ...     ...   \n",
              "3548         rumah  ...    1300 mah            0.0             0.0     1.0   \n",
              "3549         rumah  ...    1300 mah            0.0             0.0     2.0   \n",
              "3550         rumah  ...    1300 mah            0.0             0.0     2.0   \n",
              "3551         rumah  ...    2200 mah            0.0             0.0     2.0   \n",
              "3552         rumah  ...    1300 mah            0.0             0.0     2.0   \n",
              "\n",
              "      building_age  year_built property_condition building_orientation  \\\n",
              "0              5.0      2017.0              bagus                  NaN   \n",
              "1              NaN         NaN              bagus                  NaN   \n",
              "2              NaN         NaN              bagus                  NaN   \n",
              "3              6.0      2016.0       bagus sekali                utara   \n",
              "4              9.0      2013.0              bagus                utara   \n",
              "...            ...         ...                ...                  ...   \n",
              "3548           0.0      2022.0               baru                  NaN   \n",
              "3549           0.0      2022.0               baru                utara   \n",
              "3550           0.0      2022.0               baru                utara   \n",
              "3551           0.0      2022.0               baru              selatan   \n",
              "3552           0.0      2022.0               baru                timur   \n",
              "\n",
              "      garages      furnishing  \n",
              "0         0.0     unfurnished  \n",
              "1         0.0             NaN  \n",
              "2         1.0     unfurnished  \n",
              "3         2.0     unfurnished  \n",
              "4         1.0     unfurnished  \n",
              "...       ...             ...  \n",
              "3548      1.0       furnished  \n",
              "3549      0.0     unfurnished  \n",
              "3550      0.0     unfurnished  \n",
              "3551      0.0       furnished  \n",
              "3552      2.0  semi furnished  \n",
              "\n",
              "[3553 rows x 27 columns]"
            ],
            "text/html": [
              "\n",
              "\n",
              "  <div id=\"df-485653ce-369a-4fba-9f6d-f3f6701b1bd6\">\n",
              "    <div class=\"colab-df-container\">\n",
              "      <div>\n",
              "<style scoped>\n",
              "    .dataframe tbody tr th:only-of-type {\n",
              "        vertical-align: middle;\n",
              "    }\n",
              "\n",
              "    .dataframe tbody tr th {\n",
              "        vertical-align: top;\n",
              "    }\n",
              "\n",
              "    .dataframe thead th {\n",
              "        text-align: right;\n",
              "    }\n",
              "</style>\n",
              "<table border=\"1\" class=\"dataframe\">\n",
              "  <thead>\n",
              "    <tr style=\"text-align: right;\">\n",
              "      <th></th>\n",
              "      <th>url</th>\n",
              "      <th>price_in_rp</th>\n",
              "      <th>title</th>\n",
              "      <th>address</th>\n",
              "      <th>district</th>\n",
              "      <th>city</th>\n",
              "      <th>lat</th>\n",
              "      <th>long</th>\n",
              "      <th>facilities</th>\n",
              "      <th>property_type</th>\n",
              "      <th>...</th>\n",
              "      <th>electricity</th>\n",
              "      <th>maid_bedrooms</th>\n",
              "      <th>maid_bathrooms</th>\n",
              "      <th>floors</th>\n",
              "      <th>building_age</th>\n",
              "      <th>year_built</th>\n",
              "      <th>property_condition</th>\n",
              "      <th>building_orientation</th>\n",
              "      <th>garages</th>\n",
              "      <th>furnishing</th>\n",
              "    </tr>\n",
              "  </thead>\n",
              "  <tbody>\n",
              "    <tr>\n",
              "      <th>0</th>\n",
              "      <td>https://www.rumah123.com/properti/bekasi/hos11...</td>\n",
              "      <td>2.990000e+09</td>\n",
              "      <td>Rumah cantik Sumarecon Bekasi\\nLingkungan asri...</td>\n",
              "      <td>Summarecon Bekasi, Bekasi</td>\n",
              "      <td>Summarecon Bekasi</td>\n",
              "      <td>Bekasi</td>\n",
              "      <td>-6.223945</td>\n",
              "      <td>106.986275</td>\n",
              "      <td>Tempat Jemuran, Jalur Telepon, Taman,  Taman</td>\n",
              "      <td>rumah</td>\n",
              "      <td>...</td>\n",
              "      <td>4400 mah</td>\n",
              "      <td>0.0</td>\n",
              "      <td>1.0</td>\n",
              "      <td>2.0</td>\n",
              "      <td>5.0</td>\n",
              "      <td>2017.0</td>\n",
              "      <td>bagus</td>\n",
              "      <td>NaN</td>\n",
              "      <td>0.0</td>\n",
              "      <td>unfurnished</td>\n",
              "    </tr>\n",
              "    <tr>\n",
              "      <th>1</th>\n",
              "      <td>https://www.rumah123.com/properti/bekasi/hos10...</td>\n",
              "      <td>1.270000e+09</td>\n",
              "      <td>Rumah Kekinian, Magenta Summarecon Bekasi</td>\n",
              "      <td>Summarecon Bekasi, Bekasi</td>\n",
              "      <td>Summarecon Bekasi</td>\n",
              "      <td>Bekasi</td>\n",
              "      <td>-6.223945</td>\n",
              "      <td>106.986275</td>\n",
              "      <td>Taman</td>\n",
              "      <td>rumah</td>\n",
              "      <td>...</td>\n",
              "      <td>2200 mah</td>\n",
              "      <td>0.0</td>\n",
              "      <td>0.0</td>\n",
              "      <td>2.0</td>\n",
              "      <td>NaN</td>\n",
              "      <td>NaN</td>\n",
              "      <td>bagus</td>\n",
              "      <td>NaN</td>\n",
              "      <td>0.0</td>\n",
              "      <td>NaN</td>\n",
              "    </tr>\n",
              "    <tr>\n",
              "      <th>2</th>\n",
              "      <td>https://www.rumah123.com/properti/bekasi/hos10...</td>\n",
              "      <td>1.950000e+09</td>\n",
              "      <td>Rumah Cantik 2 Lantai Cluster Bluebell Summare...</td>\n",
              "      <td>Summarecon Bekasi, Bekasi</td>\n",
              "      <td>Summarecon Bekasi</td>\n",
              "      <td>Bekasi</td>\n",
              "      <td>-6.223945</td>\n",
              "      <td>106.986275</td>\n",
              "      <td>Jogging Track,  Kolam Renang, Masjid,  Taman,...</td>\n",
              "      <td>rumah</td>\n",
              "      <td>...</td>\n",
              "      <td>2200 mah</td>\n",
              "      <td>1.0</td>\n",
              "      <td>1.0</td>\n",
              "      <td>2.0</td>\n",
              "      <td>NaN</td>\n",
              "      <td>NaN</td>\n",
              "      <td>bagus</td>\n",
              "      <td>NaN</td>\n",
              "      <td>1.0</td>\n",
              "      <td>unfurnished</td>\n",
              "    </tr>\n",
              "    <tr>\n",
              "      <th>3</th>\n",
              "      <td>https://www.rumah123.com/properti/bekasi/hos10...</td>\n",
              "      <td>3.300000e+09</td>\n",
              "      <td>Rumah Mewah 2Lantai L10x18 C di Cluster VERNON...</td>\n",
              "      <td>Summarecon Bekasi, Bekasi</td>\n",
              "      <td>Summarecon Bekasi</td>\n",
              "      <td>Bekasi</td>\n",
              "      <td>-6.223945</td>\n",
              "      <td>106.986275</td>\n",
              "      <td>Jalur Telepon,  Jogging Track, Track Lari,  K...</td>\n",
              "      <td>rumah</td>\n",
              "      <td>...</td>\n",
              "      <td>3500 mah</td>\n",
              "      <td>1.0</td>\n",
              "      <td>1.0</td>\n",
              "      <td>2.0</td>\n",
              "      <td>6.0</td>\n",
              "      <td>2016.0</td>\n",
              "      <td>bagus sekali</td>\n",
              "      <td>utara</td>\n",
              "      <td>2.0</td>\n",
              "      <td>unfurnished</td>\n",
              "    </tr>\n",
              "    <tr>\n",
              "      <th>4</th>\n",
              "      <td>https://www.rumah123.com/properti/bekasi/hos10...</td>\n",
              "      <td>4.500000e+09</td>\n",
              "      <td>Rumah Hoek di Cluster Maple Summarecon Bekasi,...</td>\n",
              "      <td>Summarecon Bekasi, Bekasi</td>\n",
              "      <td>Summarecon Bekasi</td>\n",
              "      <td>Bekasi</td>\n",
              "      <td>-6.223945</td>\n",
              "      <td>106.986275</td>\n",
              "      <td>Jogging Track,  Kolam Renang, Taman, Jalur Te...</td>\n",
              "      <td>rumah</td>\n",
              "      <td>...</td>\n",
              "      <td>3500 mah</td>\n",
              "      <td>1.0</td>\n",
              "      <td>1.0</td>\n",
              "      <td>2.0</td>\n",
              "      <td>9.0</td>\n",
              "      <td>2013.0</td>\n",
              "      <td>bagus</td>\n",
              "      <td>utara</td>\n",
              "      <td>1.0</td>\n",
              "      <td>unfurnished</td>\n",
              "    </tr>\n",
              "    <tr>\n",
              "      <th>...</th>\n",
              "      <td>...</td>\n",
              "      <td>...</td>\n",
              "      <td>...</td>\n",
              "      <td>...</td>\n",
              "      <td>...</td>\n",
              "      <td>...</td>\n",
              "      <td>...</td>\n",
              "      <td>...</td>\n",
              "      <td>...</td>\n",
              "      <td>...</td>\n",
              "      <td>...</td>\n",
              "      <td>...</td>\n",
              "      <td>...</td>\n",
              "      <td>...</td>\n",
              "      <td>...</td>\n",
              "      <td>...</td>\n",
              "      <td>...</td>\n",
              "      <td>...</td>\n",
              "      <td>...</td>\n",
              "      <td>...</td>\n",
              "      <td>...</td>\n",
              "    </tr>\n",
              "    <tr>\n",
              "      <th>3548</th>\n",
              "      <td>https://www.rumah123.com/properti/tangerang/ho...</td>\n",
              "      <td>5.880000e+08</td>\n",
              "      <td>Terbaru Cluster Minimalis Sudimara Dekat Stasiun</td>\n",
              "      <td>Jombang, Tangerang</td>\n",
              "      <td>Jombang</td>\n",
              "      <td>Tangerang</td>\n",
              "      <td>-6.296615</td>\n",
              "      <td>106.704601</td>\n",
              "      <td>Masjid,  Taman, Tempat Jemuran, Keamanan 24 ja...</td>\n",
              "      <td>rumah</td>\n",
              "      <td>...</td>\n",
              "      <td>1300 mah</td>\n",
              "      <td>0.0</td>\n",
              "      <td>0.0</td>\n",
              "      <td>1.0</td>\n",
              "      <td>0.0</td>\n",
              "      <td>2022.0</td>\n",
              "      <td>baru</td>\n",
              "      <td>NaN</td>\n",
              "      <td>1.0</td>\n",
              "      <td>furnished</td>\n",
              "    </tr>\n",
              "    <tr>\n",
              "      <th>3549</th>\n",
              "      <td>https://www.rumah123.com/properti/tangerang/ho...</td>\n",
              "      <td>7.850000e+08</td>\n",
              "      <td>Rumah Modern Asri dan Nyaman Bebas Banjir Loka...</td>\n",
              "      <td>Lengkong Kulon, Tangerang</td>\n",
              "      <td>Lengkong Kulon</td>\n",
              "      <td>Tangerang</td>\n",
              "      <td>-6.283454</td>\n",
              "      <td>106.638775</td>\n",
              "      <td>Masjid,  Keamanan,  Jogging Track,  Taman, Tem...</td>\n",
              "      <td>rumah</td>\n",
              "      <td>...</td>\n",
              "      <td>1300 mah</td>\n",
              "      <td>0.0</td>\n",
              "      <td>0.0</td>\n",
              "      <td>2.0</td>\n",
              "      <td>0.0</td>\n",
              "      <td>2022.0</td>\n",
              "      <td>baru</td>\n",
              "      <td>utara</td>\n",
              "      <td>0.0</td>\n",
              "      <td>unfurnished</td>\n",
              "    </tr>\n",
              "    <tr>\n",
              "      <th>3550</th>\n",
              "      <td>https://www.rumah123.com/properti/tangerang/ho...</td>\n",
              "      <td>7.550000e+08</td>\n",
              "      <td>Rumah Mewah Murah 2 Lantai Gratis Biaya Biaya ...</td>\n",
              "      <td>Lengkong Kulon, Tangerang</td>\n",
              "      <td>Lengkong Kulon</td>\n",
              "      <td>Tangerang</td>\n",
              "      <td>-6.283454</td>\n",
              "      <td>106.638775</td>\n",
              "      <td>Keamanan,  Taman, Jogging Track, Tempat Jemur...</td>\n",
              "      <td>rumah</td>\n",
              "      <td>...</td>\n",
              "      <td>1300 mah</td>\n",
              "      <td>0.0</td>\n",
              "      <td>0.0</td>\n",
              "      <td>2.0</td>\n",
              "      <td>0.0</td>\n",
              "      <td>2022.0</td>\n",
              "      <td>baru</td>\n",
              "      <td>utara</td>\n",
              "      <td>0.0</td>\n",
              "      <td>unfurnished</td>\n",
              "    </tr>\n",
              "    <tr>\n",
              "      <th>3551</th>\n",
              "      <td>https://www.rumah123.com/properti/tangerang/ho...</td>\n",
              "      <td>8.000000e+08</td>\n",
              "      <td>Rumah 2 Lantai Dekat Perkantoran BSD City AEON...</td>\n",
              "      <td>BSD Provance Parkland, Tangerang</td>\n",
              "      <td>BSD Provance Parkland</td>\n",
              "      <td>Tangerang</td>\n",
              "      <td>-6.288237</td>\n",
              "      <td>106.665859</td>\n",
              "      <td>Tempat Jemuran, Keamanan, Keamanan 24 jam, Was...</td>\n",
              "      <td>rumah</td>\n",
              "      <td>...</td>\n",
              "      <td>2200 mah</td>\n",
              "      <td>0.0</td>\n",
              "      <td>0.0</td>\n",
              "      <td>2.0</td>\n",
              "      <td>0.0</td>\n",
              "      <td>2022.0</td>\n",
              "      <td>baru</td>\n",
              "      <td>selatan</td>\n",
              "      <td>0.0</td>\n",
              "      <td>furnished</td>\n",
              "    </tr>\n",
              "    <tr>\n",
              "      <th>3552</th>\n",
              "      <td>https://www.rumah123.com/properti/tangerang/ho...</td>\n",
              "      <td>6.550000e+08</td>\n",
              "      <td>Rumah 2 Lantai Harga 1 Lantai Di Pamulang, Fre...</td>\n",
              "      <td>Sudimara, Tangerang</td>\n",
              "      <td>Sudimara</td>\n",
              "      <td>Tangerang</td>\n",
              "      <td>-6.296963</td>\n",
              "      <td>106.710635</td>\n",
              "      <td>Kulkas, Masjid,  Taman, Lapangan Bola, Tempat ...</td>\n",
              "      <td>rumah</td>\n",
              "      <td>...</td>\n",
              "      <td>1300 mah</td>\n",
              "      <td>0.0</td>\n",
              "      <td>0.0</td>\n",
              "      <td>2.0</td>\n",
              "      <td>0.0</td>\n",
              "      <td>2022.0</td>\n",
              "      <td>baru</td>\n",
              "      <td>timur</td>\n",
              "      <td>2.0</td>\n",
              "      <td>semi furnished</td>\n",
              "    </tr>\n",
              "  </tbody>\n",
              "</table>\n",
              "<p>3553 rows × 27 columns</p>\n",
              "</div>\n",
              "      <button class=\"colab-df-convert\" onclick=\"convertToInteractive('df-485653ce-369a-4fba-9f6d-f3f6701b1bd6')\"\n",
              "              title=\"Convert this dataframe to an interactive table.\"\n",
              "              style=\"display:none;\">\n",
              "\n",
              "  <svg xmlns=\"http://www.w3.org/2000/svg\" height=\"24px\"viewBox=\"0 0 24 24\"\n",
              "       width=\"24px\">\n",
              "    <path d=\"M0 0h24v24H0V0z\" fill=\"none\"/>\n",
              "    <path d=\"M18.56 5.44l.94 2.06.94-2.06 2.06-.94-2.06-.94-.94-2.06-.94 2.06-2.06.94zm-11 1L8.5 8.5l.94-2.06 2.06-.94-2.06-.94L8.5 2.5l-.94 2.06-2.06.94zm10 10l.94 2.06.94-2.06 2.06-.94-2.06-.94-.94-2.06-.94 2.06-2.06.94z\"/><path d=\"M17.41 7.96l-1.37-1.37c-.4-.4-.92-.59-1.43-.59-.52 0-1.04.2-1.43.59L10.3 9.45l-7.72 7.72c-.78.78-.78 2.05 0 2.83L4 21.41c.39.39.9.59 1.41.59.51 0 1.02-.2 1.41-.59l7.78-7.78 2.81-2.81c.8-.78.8-2.07 0-2.86zM5.41 20L4 18.59l7.72-7.72 1.47 1.35L5.41 20z\"/>\n",
              "  </svg>\n",
              "      </button>\n",
              "\n",
              "\n",
              "\n",
              "    <div id=\"df-6aee37f8-cdba-4248-8e54-bf75752baed9\">\n",
              "      <button class=\"colab-df-quickchart\" onclick=\"quickchart('df-6aee37f8-cdba-4248-8e54-bf75752baed9')\"\n",
              "              title=\"Suggest charts.\"\n",
              "              style=\"display:none;\">\n",
              "\n",
              "<svg xmlns=\"http://www.w3.org/2000/svg\" height=\"24px\"viewBox=\"0 0 24 24\"\n",
              "     width=\"24px\">\n",
              "    <g>\n",
              "        <path d=\"M19 3H5c-1.1 0-2 .9-2 2v14c0 1.1.9 2 2 2h14c1.1 0 2-.9 2-2V5c0-1.1-.9-2-2-2zM9 17H7v-7h2v7zm4 0h-2V7h2v10zm4 0h-2v-4h2v4z\"/>\n",
              "    </g>\n",
              "</svg>\n",
              "      </button>\n",
              "    </div>\n",
              "\n",
              "<style>\n",
              "  .colab-df-quickchart {\n",
              "    background-color: #E8F0FE;\n",
              "    border: none;\n",
              "    border-radius: 50%;\n",
              "    cursor: pointer;\n",
              "    display: none;\n",
              "    fill: #1967D2;\n",
              "    height: 32px;\n",
              "    padding: 0 0 0 0;\n",
              "    width: 32px;\n",
              "  }\n",
              "\n",
              "  .colab-df-quickchart:hover {\n",
              "    background-color: #E2EBFA;\n",
              "    box-shadow: 0px 1px 2px rgba(60, 64, 67, 0.3), 0px 1px 3px 1px rgba(60, 64, 67, 0.15);\n",
              "    fill: #174EA6;\n",
              "  }\n",
              "\n",
              "  [theme=dark] .colab-df-quickchart {\n",
              "    background-color: #3B4455;\n",
              "    fill: #D2E3FC;\n",
              "  }\n",
              "\n",
              "  [theme=dark] .colab-df-quickchart:hover {\n",
              "    background-color: #434B5C;\n",
              "    box-shadow: 0px 1px 3px 1px rgba(0, 0, 0, 0.15);\n",
              "    filter: drop-shadow(0px 1px 2px rgba(0, 0, 0, 0.3));\n",
              "    fill: #FFFFFF;\n",
              "  }\n",
              "</style>\n",
              "\n",
              "    <script>\n",
              "      async function quickchart(key) {\n",
              "        const containerElement = document.querySelector('#' + key);\n",
              "        const charts = await google.colab.kernel.invokeFunction(\n",
              "            'suggestCharts', [key], {});\n",
              "      }\n",
              "    </script>\n",
              "\n",
              "      <script>\n",
              "\n",
              "function displayQuickchartButton(domScope) {\n",
              "  let quickchartButtonEl =\n",
              "    domScope.querySelector('#df-6aee37f8-cdba-4248-8e54-bf75752baed9 button.colab-df-quickchart');\n",
              "  quickchartButtonEl.style.display =\n",
              "    google.colab.kernel.accessAllowed ? 'block' : 'none';\n",
              "}\n",
              "\n",
              "        displayQuickchartButton(document);\n",
              "      </script>\n",
              "      <style>\n",
              "    .colab-df-container {\n",
              "      display:flex;\n",
              "      flex-wrap:wrap;\n",
              "      gap: 12px;\n",
              "    }\n",
              "\n",
              "    .colab-df-convert {\n",
              "      background-color: #E8F0FE;\n",
              "      border: none;\n",
              "      border-radius: 50%;\n",
              "      cursor: pointer;\n",
              "      display: none;\n",
              "      fill: #1967D2;\n",
              "      height: 32px;\n",
              "      padding: 0 0 0 0;\n",
              "      width: 32px;\n",
              "    }\n",
              "\n",
              "    .colab-df-convert:hover {\n",
              "      background-color: #E2EBFA;\n",
              "      box-shadow: 0px 1px 2px rgba(60, 64, 67, 0.3), 0px 1px 3px 1px rgba(60, 64, 67, 0.15);\n",
              "      fill: #174EA6;\n",
              "    }\n",
              "\n",
              "    [theme=dark] .colab-df-convert {\n",
              "      background-color: #3B4455;\n",
              "      fill: #D2E3FC;\n",
              "    }\n",
              "\n",
              "    [theme=dark] .colab-df-convert:hover {\n",
              "      background-color: #434B5C;\n",
              "      box-shadow: 0px 1px 3px 1px rgba(0, 0, 0, 0.15);\n",
              "      filter: drop-shadow(0px 1px 2px rgba(0, 0, 0, 0.3));\n",
              "      fill: #FFFFFF;\n",
              "    }\n",
              "  </style>\n",
              "\n",
              "      <script>\n",
              "        const buttonEl =\n",
              "          document.querySelector('#df-485653ce-369a-4fba-9f6d-f3f6701b1bd6 button.colab-df-convert');\n",
              "        buttonEl.style.display =\n",
              "          google.colab.kernel.accessAllowed ? 'block' : 'none';\n",
              "\n",
              "        async function convertToInteractive(key) {\n",
              "          const element = document.querySelector('#df-485653ce-369a-4fba-9f6d-f3f6701b1bd6');\n",
              "          const dataTable =\n",
              "            await google.colab.kernel.invokeFunction('convertToInteractive',\n",
              "                                                     [key], {});\n",
              "          if (!dataTable) return;\n",
              "\n",
              "          const docLinkHtml = 'Like what you see? Visit the ' +\n",
              "            '<a target=\"_blank\" href=https://colab.research.google.com/notebooks/data_table.ipynb>data table notebook</a>'\n",
              "            + ' to learn more about interactive tables.';\n",
              "          element.innerHTML = '';\n",
              "          dataTable['output_type'] = 'display_data';\n",
              "          await google.colab.output.renderOutput(dataTable, element);\n",
              "          const docLink = document.createElement('div');\n",
              "          docLink.innerHTML = docLinkHtml;\n",
              "          element.appendChild(docLink);\n",
              "        }\n",
              "      </script>\n",
              "    </div>\n",
              "  </div>\n"
            ]
          },
          "metadata": {},
          "execution_count": 7
        }
      ],
      "source": [
        "df = pd.read_csv('/content/jabodetabek_house_price.csv')\n",
        "df"
      ]
    },
    {
      "cell_type": "markdown",
      "metadata": {
        "id": "hqsAkFqTAXsz"
      },
      "source": [
        "## **B. DATA PREPROCESSING**"
      ]
    },
    {
      "cell_type": "markdown",
      "metadata": {
        "id": "G2wbPFTBAXsz"
      },
      "source": [
        "### B.1. DATASET OVERVIEW"
      ]
    },
    {
      "cell_type": "code",
      "execution_count": 8,
      "metadata": {
        "colab": {
          "base_uri": "https://localhost:8080/"
        },
        "id": "jx41n_U0AXsz",
        "outputId": "c6cd3f00-13dc-4d72-f89e-96be65dbe307"
      },
      "outputs": [
        {
          "output_type": "stream",
          "name": "stdout",
          "text": [
            "<class 'pandas.core.frame.DataFrame'>\n",
            "RangeIndex: 3553 entries, 0 to 3552\n",
            "Data columns (total 27 columns):\n",
            " #   Column                Non-Null Count  Dtype  \n",
            "---  ------                --------------  -----  \n",
            " 0   url                   3553 non-null   object \n",
            " 1   price_in_rp           3553 non-null   float64\n",
            " 2   title                 3553 non-null   object \n",
            " 3   address               3553 non-null   object \n",
            " 4   district              3553 non-null   object \n",
            " 5   city                  3553 non-null   object \n",
            " 6   lat                   3553 non-null   float64\n",
            " 7   long                  3553 non-null   float64\n",
            " 8   facilities            3553 non-null   object \n",
            " 9   property_type         3552 non-null   object \n",
            " 10  ads_id                3549 non-null   object \n",
            " 11  bedrooms              3519 non-null   float64\n",
            " 12  bathrooms             3524 non-null   float64\n",
            " 13  land_size_m2          3551 non-null   float64\n",
            " 14  building_size_m2      3551 non-null   float64\n",
            " 15  carports              3553 non-null   float64\n",
            " 16  certificate           3412 non-null   object \n",
            " 17  electricity           3553 non-null   object \n",
            " 18  maid_bedrooms         3553 non-null   float64\n",
            " 19  maid_bathrooms        3553 non-null   float64\n",
            " 20  floors                3547 non-null   float64\n",
            " 21  building_age          2108 non-null   float64\n",
            " 22  year_built            2108 non-null   float64\n",
            " 23  property_condition    3307 non-null   object \n",
            " 24  building_orientation  1906 non-null   object \n",
            " 25  garages               3553 non-null   float64\n",
            " 26  furnishing            3166 non-null   object \n",
            "dtypes: float64(14), object(13)\n",
            "memory usage: 749.6+ KB\n"
          ]
        }
      ],
      "source": [
        "#info detail dari dataset\n",
        "df.info()"
      ]
    },
    {
      "cell_type": "code",
      "source": [
        "report = create_report(df)\n",
        "report\n",
        "#apabila ingin melihat summary secara general bisa menggunakan sintaks diatas"
      ],
      "metadata": {
        "id": "GefEaN5lCARy"
      },
      "execution_count": null,
      "outputs": []
    },
    {
      "cell_type": "markdown",
      "metadata": {
        "id": "vDN_yaDCAXs0"
      },
      "source": [
        "### B.2. DATA CLEANING"
      ]
    },
    {
      "cell_type": "code",
      "source": [
        "#duplikasi dataframe\n",
        "df_dc = df.copy()"
      ],
      "metadata": {
        "id": "CYpyGgoWNJpz"
      },
      "execution_count": 11,
      "outputs": []
    },
    {
      "cell_type": "markdown",
      "metadata": {
        "id": "fdkAsR3FAXs0"
      },
      "source": [
        "#### **COLUMNS HANDLING**"
      ]
    },
    {
      "cell_type": "markdown",
      "source": [
        "##### **HANDLING DATA YANG TIDAK SESUAI**"
      ],
      "metadata": {
        "id": "NRDXprlpHUCI"
      }
    },
    {
      "cell_type": "markdown",
      "source": [
        "**1. Kolom 'price_in_rp'**"
      ],
      "metadata": {
        "id": "gAIev5OUOqc_"
      }
    },
    {
      "cell_type": "markdown",
      "source": [
        "Peneliti melakukan pengecekkan terhadap kolom 'price_in_rp' dimana terdapat beberapa value harga yang dalam asumsi peneliti *typo* pada saat penulisan, oleh karena-nya peneliti melakukan penyesuaian"
      ],
      "metadata": {
        "id": "hoYkDO7sJ1pL"
      }
    },
    {
      "cell_type": "code",
      "source": [
        "#mencari 10 nilai terbesar pada kolom 'price_in_rp'\n",
        "df_dc['price_in_rp'].nlargest(10)"
      ],
      "metadata": {
        "colab": {
          "base_uri": "https://localhost:8080/"
        },
        "id": "gIDnQ7R9HZPz",
        "outputId": "f2c121a0-8956-49fa-b646-a61660e28166"
      },
      "execution_count": 12,
      "outputs": [
        {
          "output_type": "execute_result",
          "data": {
            "text/plain": [
              "2906    5.800000e+11\n",
              "2479    2.500000e+11\n",
              "2291    1.750000e+11\n",
              "2515    1.750000e+11\n",
              "2488    1.500000e+11\n",
              "2417    1.100000e+11\n",
              "2398    1.080000e+11\n",
              "2287    1.060000e+11\n",
              "2419    1.000000e+11\n",
              "2143    8.500000e+10\n",
              "Name: price_in_rp, dtype: float64"
            ]
          },
          "metadata": {},
          "execution_count": 12
        }
      ]
    },
    {
      "cell_type": "code",
      "source": [
        "#menyesuaikan value\n",
        "df_dc.loc[df_dc['price_in_rp'] == 580000000000.0, 'price_in_rp'] = 58000000000.0\n",
        "df_dc.loc[df_dc['price_in_rp'] == 250000000000.0, 'price_in_rp'] = 25000000000.0\n",
        "df_dc.loc[df_dc['price_in_rp'] == 175000000000.0, 'price_in_rp'] = 17500000000.0\n",
        "df_dc.loc[df_dc['price_in_rp'] == 150000000000.0, 'price_in_rp'] = 15000000000.0\n",
        "df_dc.loc[df_dc['price_in_rp'] == 110000000000.0, 'price_in_rp'] = 11000000000.0\n",
        "df_dc.loc[df_dc['price_in_rp'] == 108000000000.0, 'price_in_rp'] = 10800000000.0\n",
        "df_dc.loc[df_dc['price_in_rp'] == 106000000000.0, 'price_in_rp'] = 10600000000.0\n",
        "df_dc.loc[df_dc['price_in_rp'] == 100000000000.0, 'price_in_rp'] = 10000000000.0"
      ],
      "metadata": {
        "id": "uBuXuMRbIVlB"
      },
      "execution_count": 13,
      "outputs": []
    },
    {
      "cell_type": "code",
      "source": [
        "#recek\n",
        "df_dc['price_in_rp'].nlargest(10)"
      ],
      "metadata": {
        "colab": {
          "base_uri": "https://localhost:8080/"
        },
        "id": "wl9DK515Id1o",
        "outputId": "314ea98b-9594-41e7-b536-f95630dee80c"
      },
      "execution_count": 14,
      "outputs": [
        {
          "output_type": "execute_result",
          "data": {
            "text/plain": [
              "2143    8.500000e+10\n",
              "2648    8.500000e+10\n",
              "2626    8.280000e+10\n",
              "2662    7.000000e+10\n",
              "2420    6.900000e+10\n",
              "2421    6.900000e+10\n",
              "2056    6.300000e+10\n",
              "2906    5.800000e+10\n",
              "2305    5.500000e+10\n",
              "2399    5.500000e+10\n",
              "Name: price_in_rp, dtype: float64"
            ]
          },
          "metadata": {},
          "execution_count": 14
        }
      ]
    },
    {
      "cell_type": "code",
      "source": [
        "#recek\n",
        "df_dc['carports'].nlargest(10)"
      ],
      "metadata": {
        "colab": {
          "base_uri": "https://localhost:8080/"
        },
        "id": "iLgigpV3RdBV",
        "outputId": "f72f28e8-3b72-4508-a5cb-7894047bea04"
      },
      "execution_count": 15,
      "outputs": [
        {
          "output_type": "execute_result",
          "data": {
            "text/plain": [
              "2307    15.0\n",
              "2545    14.0\n",
              "2659    14.0\n",
              "522     12.0\n",
              "1332    10.0\n",
              "1385    10.0\n",
              "2056    10.0\n",
              "2283    10.0\n",
              "2308    10.0\n",
              "2329    10.0\n",
              "Name: carports, dtype: float64"
            ]
          },
          "metadata": {},
          "execution_count": 15
        }
      ]
    },
    {
      "cell_type": "markdown",
      "source": [
        "**2. Kolom 'prorerty_type'**"
      ],
      "metadata": {
        "id": "aJbexS2lOx5G"
      }
    },
    {
      "cell_type": "code",
      "source": [
        "#cek kesalahan pada kolom terkait\n",
        "df.iloc[2282]"
      ],
      "metadata": {
        "colab": {
          "base_uri": "https://localhost:8080/"
        },
        "id": "f4XMOhruK16-",
        "outputId": "6db756c1-7b6d-405f-8183-863c8bec2b95"
      },
      "execution_count": 16,
      "outputs": [
        {
          "output_type": "execute_result",
          "data": {
            "text/plain": [
              "url                     https://www.rumah123.com/properti/jakarta-sela...\n",
              "price_in_rp                                                 26000000000.0\n",
              "title                   Rumah Kost Exclusive 21 Kt di Cipete, Ala Hote...\n",
              "address                                           Cipete, Jakarta Selatan\n",
              "district                                                           Cipete\n",
              "city                                                      Jakarta Selatan\n",
              "lat                                                             -6.272585\n",
              "long                                                           106.805543\n",
              "facilities               Kolam Renang,  Taman, Jalur Telepon, Tempat J...\n",
              "property_type                                                       rumah\n",
              "ads_id                                                        hos11142642\n",
              "bedrooms                                                             21.0\n",
              "bathrooms                                                            21.0\n",
              "land_size_m2                                                        900.0\n",
              "building_size_m2                                                    700.0\n",
              "carports                                                              2.0\n",
              "certificate                                       hgb - hak guna bangunan\n",
              "electricity                                                   lainnya mah\n",
              "maid_bedrooms                                                         0.0\n",
              "maid_bathrooms                                                        0.0\n",
              "floors                                                                2.0\n",
              "building_age                                                          NaN\n",
              "year_built                                                            NaN\n",
              "property_condition                                                  bagus\n",
              "building_orientation                                                  NaN\n",
              "garages                                                               0.0\n",
              "furnishing                                                      furnished\n",
              "Name: 2282, dtype: object"
            ]
          },
          "metadata": {},
          "execution_count": 16
        }
      ]
    },
    {
      "cell_type": "code",
      "source": [
        "#revisi value kolom terkait\n",
        "df_dc.loc[df_dc['title'].str.contains('kos|kost|Kos|Kost', case=False), 'property_type'] = 'kost'"
      ],
      "metadata": {
        "id": "_y9FwCoXMjgS"
      },
      "execution_count": 17,
      "outputs": []
    },
    {
      "cell_type": "code",
      "source": [
        "#recek\n",
        "df_dc.iloc[2282]"
      ],
      "metadata": {
        "colab": {
          "base_uri": "https://localhost:8080/"
        },
        "id": "fnS9w_2eODwp",
        "outputId": "41dadda4-fb36-4bf9-d57d-4912c86e97f0"
      },
      "execution_count": 18,
      "outputs": [
        {
          "output_type": "execute_result",
          "data": {
            "text/plain": [
              "url                     https://www.rumah123.com/properti/jakarta-sela...\n",
              "price_in_rp                                                 26000000000.0\n",
              "title                   Rumah Kost Exclusive 21 Kt di Cipete, Ala Hote...\n",
              "address                                           Cipete, Jakarta Selatan\n",
              "district                                                           Cipete\n",
              "city                                                      Jakarta Selatan\n",
              "lat                                                             -6.272585\n",
              "long                                                           106.805543\n",
              "facilities               Kolam Renang,  Taman, Jalur Telepon, Tempat J...\n",
              "property_type                                                        kost\n",
              "ads_id                                                        hos11142642\n",
              "bedrooms                                                             21.0\n",
              "bathrooms                                                            21.0\n",
              "land_size_m2                                                        900.0\n",
              "building_size_m2                                                    700.0\n",
              "carports                                                              2.0\n",
              "certificate                                       hgb - hak guna bangunan\n",
              "electricity                                                   lainnya mah\n",
              "maid_bedrooms                                                         0.0\n",
              "maid_bathrooms                                                        0.0\n",
              "floors                                                                2.0\n",
              "building_age                                                          NaN\n",
              "year_built                                                            NaN\n",
              "property_condition                                                  bagus\n",
              "building_orientation                                                  NaN\n",
              "garages                                                               0.0\n",
              "furnishing                                                      furnished\n",
              "Name: 2282, dtype: object"
            ]
          },
          "metadata": {},
          "execution_count": 18
        }
      ]
    },
    {
      "cell_type": "markdown",
      "metadata": {
        "id": "v8L2GRG7AXs0"
      },
      "source": [
        "##### **DROPPING KOLOM TAK TERPAKAI**"
      ]
    },
    {
      "cell_type": "markdown",
      "metadata": {
        "id": "uiw2GXRpAXs0"
      },
      "source": [
        "Peneliti akan membuang beberapa kolom tidak terpakai :\n",
        "\n",
        "1. Address, peneliti berasumsi informasi yang sama sudah tersaji di kolom lain\n",
        "2. Url, peneliti berasumsi tidak memiliki kaitan dengan prediksi harga rumah\n",
        "3. Title, peneliti berasumsi tidak memiliki kaitan dengan prediksi harga rumah\n",
        "4. building_age, peneliti berasumsi bahwa nilainya tidak relevan dengan tahun 2023"
      ]
    },
    {
      "cell_type": "code",
      "execution_count": 19,
      "metadata": {
        "id": "5z1zPBO2AXs0"
      },
      "outputs": [],
      "source": [
        "#membuang kolom tak terpakai\n",
        "df_dc.drop(['address', 'url', 'title', 'building_age'], axis=1, inplace=True)\n"
      ]
    },
    {
      "cell_type": "markdown",
      "metadata": {
        "id": "NNWbpaPsAXs1"
      },
      "source": [
        "##### **PENYESUAIAN TIPE DATA**"
      ]
    },
    {
      "cell_type": "code",
      "execution_count": 20,
      "metadata": {
        "id": "tgjE0WThAXs1"
      },
      "outputs": [],
      "source": [
        "#menghapus unit \"mah\" dari nilai dalam kolom\n",
        "df_dc['electricity'] = df_dc['electricity'].str.replace(' mah', '')\n",
        "\n",
        "#mengganti 'lainnya' dengan '0' pada kolom 'electricity'\n",
        "df_dc['electricity'] = df_dc['electricity'].str.replace('lainnya', '0')\n",
        "\n",
        "#mengubah jenis data kolom 'electricity' menjadi float (jika belum float)\n",
        "df_dc['electricity'] = df_dc['electricity'].astype(float)\n",
        "\n",
        "#mengubah nilai '0' dengan nilai median pada kolom 'electricity'\n",
        "median_value = df_dc['electricity'].median()\n",
        "df_dc['electricity'] = df_dc['electricity'].replace(0, median_value)"
      ]
    },
    {
      "cell_type": "markdown",
      "metadata": {
        "id": "lErTFLICAXs1"
      },
      "source": [
        "##### **DUPLICATED DATA HANDLING**"
      ]
    },
    {
      "cell_type": "code",
      "execution_count": 21,
      "metadata": {
        "colab": {
          "base_uri": "https://localhost:8080/"
        },
        "id": "9KyNX5phAXs1",
        "outputId": "07f10966-32aa-4dc3-cfc6-fddddf5a0430"
      },
      "outputs": [
        {
          "output_type": "execute_result",
          "data": {
            "text/plain": [
              "(68, 23)"
            ]
          },
          "metadata": {},
          "execution_count": 21
        }
      ],
      "source": [
        "#pengecekkan data duplikat pada dataframe\n",
        "df_dc[df_dc.duplicated()].shape"
      ]
    },
    {
      "cell_type": "markdown",
      "metadata": {
        "id": "JJPy9z0NAXs1"
      },
      "source": [
        "Tidak terdapat data duplikat"
      ]
    },
    {
      "cell_type": "markdown",
      "source": [
        "#### **EDA**"
      ],
      "metadata": {
        "id": "HqEgkRJfPUlC"
      }
    },
    {
      "cell_type": "markdown",
      "source": [
        "##### 1. Tipe Properti"
      ],
      "metadata": {
        "id": "FHkvlOnzQcLD"
      }
    },
    {
      "cell_type": "code",
      "source": [
        "plt.figure(figsize=(6, 4))\n",
        "sns.countplot(data=df_dc, x='property_type', palette='Set2')\n",
        "plt.title('Jumlah Properti Berdasarkan Tipe')\n",
        "plt.xlabel('Tipe Properti')\n",
        "plt.ylabel('Jumlah')\n",
        "plt.xticks(rotation=45)\n",
        "plt.show()\n"
      ],
      "metadata": {
        "colab": {
          "base_uri": "https://localhost:8080/",
          "height": 438
        },
        "id": "pPRqrRtBPeo2",
        "outputId": "bfcef780-a19a-4a79-eb19-26216d5c5d04"
      },
      "execution_count": 60,
      "outputs": [
        {
          "output_type": "display_data",
          "data": {
            "text/plain": [
              "<Figure size 600x400 with 1 Axes>"
            ],
            "image/png": "[encoded data removed]"
          },
          "metadata": {}
        }
      ]
    },
    {
      "cell_type": "markdown",
      "source": [
        "Pada dataset ini terdapat dua jenis properti yakni :\n",
        "1. Rumah\n",
        "2. Kost\n",
        "Dimana mayoritas jenis properti yang ada pada dataset ini merupakan Rumah"
      ],
      "metadata": {
        "id": "Pyi5e6IRP3NQ"
      }
    },
    {
      "cell_type": "code",
      "source": [
        "plt.figure(figsize=(6, 4))\n",
        "sns.barplot(data=df_dc, x='property_type', y='price_in_rp', ci=None, palette='Set2')\n",
        "plt.title('Rata-rata Harga Properti Berdasarkan Tipe')\n",
        "plt.xlabel('Tipe Properti')\n",
        "plt.ylabel('Rata-rata Harga (Rp)')\n",
        "plt.xticks(rotation=45)\n",
        "plt.show()\n"
      ],
      "metadata": {
        "colab": {
          "base_uri": "https://localhost:8080/",
          "height": 438
        },
        "id": "6tNkQ5mnQMZl",
        "outputId": "9a1cf477-42a9-40f9-9047-41c97a88f718"
      },
      "execution_count": 59,
      "outputs": [
        {
          "output_type": "display_data",
          "data": {
            "text/plain": [
              "<Figure size 600x400 with 1 Axes>"
            ],
            "image/png": "[encoded data removed]"
          },
          "metadata": {}
        }
      ]
    },
    {
      "cell_type": "markdown",
      "source": [
        "Akan tetapi berdasarkan harganya, rata-rata harga kost pada wilayah Jabodetabek jauh lebih tinggi bahkan hampir tiga kali lipat dibandingkan dengan harga rumah."
      ],
      "metadata": {
        "id": "adR5xqJcQOzR"
      }
    },
    {
      "cell_type": "markdown",
      "source": [
        "##### 2. Kota/Kabupaten"
      ],
      "metadata": {
        "id": "gTExIyrPQrbE"
      }
    },
    {
      "cell_type": "code",
      "source": [
        "plt.subplot(1, 2, 1)\n",
        "city_counts = df['city'].value_counts()\n",
        "colors = plt.cm.Set2.colors\n",
        "plt.pie(city_counts, labels=city_counts.index, autopct='%1.1f%%', startangle=140, colors=colors)\n",
        "plt.title('Sebaran Kota')\n",
        "\n",
        "plt.tight_layout()\n",
        "plt.show()"
      ],
      "metadata": {
        "colab": {
          "base_uri": "https://localhost:8080/",
          "height": 311
        },
        "id": "98j4e6sDQuZc",
        "outputId": "7556cf76-b154-4fb7-d3f4-73b93a6ec861"
      },
      "execution_count": 62,
      "outputs": [
        {
          "output_type": "display_data",
          "data": {
            "text/plain": [
              "<Figure size 640x480 with 1 Axes>"
            ],
            "image/png": "[encoded data removed]"
          },
          "metadata": {}
        }
      ]
    },
    {
      "cell_type": "markdown",
      "source": [
        "Dari dataset diatas mayoritas properti yang dijual berada di wilayah Bogor."
      ],
      "metadata": {
        "id": "LqSiAlNIQ9CJ"
      }
    },
    {
      "cell_type": "code",
      "source": [
        "#urutan kota berdasarkan harga rata-rata\n",
        "sorted_cities = df.groupby('city')['price_in_rp'].mean().sort_values(ascending=False).index\n",
        "\n",
        "plt.figure(figsize=(10, 6))\n",
        "sns.barplot(data=df, x='city', y='price_in_rp', estimator='mean', ci=None, order=sorted_cities, palette='Set2')\n",
        "plt.title('Perbandingan Harga Rata-rata di Tiap Kota')\n",
        "plt.xlabel('Kota')\n",
        "plt.ylabel('Harga Rata-rata (IDR)')\n",
        "plt.xticks(rotation=45)\n",
        "plt.tight_layout()\n",
        "plt.show()"
      ],
      "metadata": {
        "colab": {
          "base_uri": "https://localhost:8080/",
          "height": 607
        },
        "id": "knHDnws3RJem",
        "outputId": "bea054ea-6397-4579-e9f3-b0f4e4de694a"
      },
      "execution_count": 57,
      "outputs": [
        {
          "output_type": "display_data",
          "data": {
            "text/plain": [
              "<Figure size 1000x600 with 1 Axes>"
            ],
            "image/png": "[encoded data removed]"
          },
          "metadata": {}
        }
      ]
    },
    {
      "cell_type": "markdown",
      "source": [
        "Berdasrkan visualisasi diatas dapat dilihat top 3 properti dengan harga rata-rata paling tinggi ada di Provinsi Jakarta.\n",
        "\n",
        "Peneliti beranggapan hal tersebut dikarenakan karena harga tanah dan bangunan di wilayah tersebut yang sangat tinggi, namun apabila dilihat juga dari dataset, bisa saja hal tersebut dikarenakan jenis properti yang dijual pada ketiga wilayah tersebut terdapat jenis properti 'kost' yang mana harganya memang sangat tinggi."
      ],
      "metadata": {
        "id": "u6sJZ7LwSXn4"
      }
    },
    {
      "cell_type": "markdown",
      "source": [
        "##### Tipe Furnishing"
      ],
      "metadata": {
        "id": "IWZlUE2lTKmW"
      }
    },
    {
      "cell_type": "code",
      "source": [
        "plt.figure(figsize=(8, 6))\n",
        "sns.countplot(data=df, x='furnishing', palette='Set2')\n",
        "plt.title('Distribusi Tipe Furnishing Properti')\n",
        "plt.xlabel('Tipe Furnishing')\n",
        "plt.ylabel('Jumlah Properti')\n",
        "plt.xticks(rotation=45)\n",
        "plt.show()\n"
      ],
      "metadata": {
        "colab": {
          "base_uri": "https://localhost:8080/",
          "height": 632
        },
        "id": "Y22hzrO1TTYW",
        "outputId": "4b7f1be2-e403-49df-f81b-ffc6e9d47529"
      },
      "execution_count": 56,
      "outputs": [
        {
          "output_type": "display_data",
          "data": {
            "text/plain": [
              "<Figure size 800x600 with 1 Axes>"
            ],
            "image/png": "[encoded data removed]"
          },
          "metadata": {}
        }
      ]
    },
    {
      "cell_type": "markdown",
      "source": [
        "Pada dataset ini mayoritas tipe properti memiliki tipe unfurnished atau belum terdapat furnitur pada propertinya. Dimana berdasarkan asumsi peneliti seharusnya tipe properti seperti ini memiliki harga yang seharusnya tidak tinggi. Dan akan dibutkikan pada visualisasi dibawah."
      ],
      "metadata": {
        "id": "qlkBj3x-Ykhu"
      }
    },
    {
      "cell_type": "code",
      "source": [
        "plt.figure(figsize=(10, 6))\n",
        "average_price_by_furnishing = df.groupby('furnishing')['price_in_rp'].mean().sort_values(ascending=False)\n",
        "sns.barplot(x=average_price_by_furnishing.index, y=average_price_by_furnishing.values, palette='Set2')\n",
        "plt.title('Rata-rata Harga Berdasarkan Tipe Furnishing')\n",
        "plt.xlabel('Tipe Furnishing')\n",
        "plt.ylabel('Rata-rata Harga (Rp)')\n",
        "plt.xticks(rotation=45)\n",
        "plt.show()\n"
      ],
      "metadata": {
        "colab": {
          "base_uri": "https://localhost:8080/",
          "height": 632
        },
        "id": "xXM48ZDEYQEW",
        "outputId": "b8675f4a-eed0-454e-e11c-3f361b4e58bf"
      },
      "execution_count": 63,
      "outputs": [
        {
          "output_type": "display_data",
          "data": {
            "text/plain": [
              "<Figure size 1000x600 with 1 Axes>"
            ],
            "image/png": "[encoded data removed]"
          },
          "metadata": {}
        }
      ]
    },
    {
      "cell_type": "markdown",
      "source": [
        "Berdasarkan asumsi peneliti sebelumny terbuki bahwa tipe rumah yang *unfurnished* lebih rendah. Dan berdasarkan visualisasi diatas, dapat kita lihat bahwa rata-rata harga properti paling tinggi dimiliki oleh jenis *furnished* atau telah terdapat furnitur di dalam propertinya."
      ],
      "metadata": {
        "id": "gtyJWS5qYlkW"
      }
    },
    {
      "cell_type": "markdown",
      "metadata": {
        "id": "RMrKZ7v4AXs2"
      },
      "source": [
        "#### **FEATURES SELECTION**"
      ]
    },
    {
      "cell_type": "markdown",
      "metadata": {
        "id": "ZooND8VMAXs2"
      },
      "source": [
        "Peneliti menggunakan teknik *PHIK* correlation untuk mengetahui fitur (informasi) apa yang paling berpengaruh terhadap harga rumah."
      ]
    },
    {
      "cell_type": "code",
      "execution_count": 22,
      "metadata": {
        "colab": {
          "base_uri": "https://localhost:8080/"
        },
        "id": "XCfbDiPgAXs2",
        "outputId": "4cdfe7a1-c845-4abb-858c-d9a045362d25"
      },
      "outputs": [
        {
          "output_type": "stream",
          "name": "stdout",
          "text": [
            "interval columns not set, guessing: ['price_in_rp', 'lat', 'long', 'bedrooms', 'bathrooms', 'land_size_m2', 'building_size_m2', 'carports', 'electricity', 'maid_bedrooms', 'maid_bathrooms', 'floors', 'year_built', 'garages']\n",
            "                      price_in_rp  district      city       lat      long  \\\n",
            "price_in_rp              1.000000  0.837739  0.741602  0.249392  0.000000   \n",
            "ads_id                   1.000000  1.000000  1.000000  1.000000  1.000000   \n",
            "facilities               0.911419  0.997415  0.933012  0.541442  0.664230   \n",
            "building_size_m2         0.845828  0.637042  0.584528  0.219419  0.000000   \n",
            "district                 0.837739  1.000000  0.999014  0.999396  0.999521   \n",
            "electricity              0.805770  0.713900  0.468519  0.076461  0.000000   \n",
            "carports                 0.762383  0.853240  0.374420  0.000000  0.000000   \n",
            "garages                  0.747431  0.777372  0.437060  0.360735  0.060104   \n",
            "city                     0.741602  0.999014  1.000000  0.772369  0.772910   \n",
            "land_size_m2             0.688730  0.801136  0.227414  0.470829  0.000000   \n",
            "maid_bathrooms           0.622413  0.817428  0.566554  0.317036  0.311968   \n",
            "maid_bedrooms            0.601688  0.413388  0.390569  0.208611  0.328334   \n",
            "year_built               0.581749  0.575509  0.383773  0.227414  0.000000   \n",
            "bathrooms                0.423965  0.983925  0.130473  0.341403  0.000000   \n",
            "bedrooms                 0.404629  0.964884  0.200711  0.154238  0.000000   \n",
            "floors                   0.378737  0.908296  0.392056  0.389750  0.388038   \n",
            "furnishing               0.260860  0.000000  0.269860  0.310991  0.149359   \n",
            "property_type            0.250674  0.952352  0.157126  0.000000  0.000000   \n",
            "lat                      0.249392  0.999396  0.772369  1.000000  0.699950   \n",
            "property_condition       0.222444  0.118906  0.127575  0.000000  0.247453   \n",
            "long                     0.000000  0.999521  0.772910  0.699950  1.000000   \n",
            "building_orientation     0.000000  0.566335  0.106506  0.257198  0.039681   \n",
            "certificate              0.000000  0.000000  0.263742  0.317467  0.202966   \n",
            "\n",
            "                      facilities  property_type    ads_id  bedrooms  \\\n",
            "price_in_rp             0.911419       0.250674  1.000000  0.404629   \n",
            "ads_id                  0.999901       1.000000  1.000000  1.000000   \n",
            "facilities              1.000000       0.754051  0.999901  0.958097   \n",
            "building_size_m2        0.894491       0.624431  1.000000  0.812831   \n",
            "district                0.997415       0.952352  1.000000  0.964884   \n",
            "electricity             0.996122       0.543302  1.000000  0.697209   \n",
            "carports                0.890245       0.000000  1.000000  0.566232   \n",
            "garages                 0.998976       0.764158  1.000000  0.706185   \n",
            "city                    0.933012       0.157126  1.000000  0.200711   \n",
            "land_size_m2            0.955743       0.575542  1.000000  0.455607   \n",
            "maid_bathrooms          0.987864       0.000000  1.000000  0.219165   \n",
            "maid_bedrooms           0.980229       0.000000  1.000000  0.481600   \n",
            "year_built              0.933269       0.000000  1.000000  0.157964   \n",
            "bathrooms               0.995722       0.681185  1.000000  0.986390   \n",
            "bedrooms                0.958097       0.745327  1.000000  1.000000   \n",
            "floors                  0.955059       0.470622  1.000000  0.904007   \n",
            "furnishing              0.985191       0.051052  1.000000  0.101527   \n",
            "property_type           0.754051       1.000000  1.000000  0.745327   \n",
            "lat                     0.541442       0.000000  1.000000  0.154238   \n",
            "property_condition      0.889243       0.120108  1.000000  0.000000   \n",
            "long                    0.664230       0.000000  1.000000  0.000000   \n",
            "building_orientation    0.000000       0.000000  1.000000  0.000000   \n",
            "certificate             0.895546       0.000000  1.000000  0.000000   \n",
            "\n",
            "                      bathrooms  ...  certificate  electricity  maid_bedrooms  \\\n",
            "price_in_rp            0.423965  ...     0.000000     0.805770       0.601688   \n",
            "ads_id                 1.000000  ...     1.000000     1.000000       1.000000   \n",
            "facilities             0.995722  ...     0.895546     0.996122       0.980229   \n",
            "building_size_m2       0.754981  ...     0.119823     0.534305       0.671291   \n",
            "district               0.983925  ...     0.000000     0.713900       0.413388   \n",
            "electricity            0.711241  ...     0.000000     1.000000       0.475467   \n",
            "carports               0.594914  ...     0.000000     0.690145       0.498158   \n",
            "garages                0.672422  ...     0.000000     0.409730       0.458922   \n",
            "city                   0.130473  ...     0.263742     0.468519       0.390569   \n",
            "land_size_m2           0.446703  ...     0.000000     0.357574       0.350883   \n",
            "maid_bathrooms         0.152741  ...     0.075227     0.452255       0.654040   \n",
            "maid_bedrooms          0.379788  ...     0.000000     0.475467       1.000000   \n",
            "year_built             0.000000  ...     0.000000     0.486045       0.578660   \n",
            "bathrooms              1.000000  ...     0.000000     0.711241       0.379788   \n",
            "bedrooms               0.986390  ...     0.000000     0.697209       0.481600   \n",
            "floors                 0.885936  ...     0.013117     0.222006       0.457744   \n",
            "furnishing             0.128691  ...     0.000000     0.227326       0.253271   \n",
            "property_type          0.681185  ...     0.000000     0.543302       0.000000   \n",
            "lat                    0.341403  ...     0.317467     0.076461       0.208611   \n",
            "property_condition     0.000000  ...     0.138146     0.000000       0.203305   \n",
            "long                   0.000000  ...     0.202966     0.000000       0.328334   \n",
            "building_orientation   0.000000  ...     0.000000     0.000000       0.191052   \n",
            "certificate            0.000000  ...     1.000000     0.000000       0.000000   \n",
            "\n",
            "                      maid_bathrooms    floors  year_built  \\\n",
            "price_in_rp                 0.622413  0.378737    0.581749   \n",
            "ads_id                      1.000000  1.000000    1.000000   \n",
            "facilities                  0.987864  0.955059    0.933269   \n",
            "building_size_m2            0.805106  0.817332    0.536602   \n",
            "district                    0.817428  0.908296    0.575509   \n",
            "electricity                 0.452255  0.222006    0.486045   \n",
            "carports                    0.416155  0.276547    0.474233   \n",
            "garages                     0.599064  0.650069    0.149554   \n",
            "city                        0.566554  0.392056    0.383773   \n",
            "land_size_m2                0.406335  0.127051    0.575810   \n",
            "maid_bathrooms              1.000000  0.384562    0.460217   \n",
            "maid_bedrooms               0.654040  0.457744    0.578660   \n",
            "year_built                  0.460217  0.000000    1.000000   \n",
            "bathrooms                   0.152741  0.885936    0.000000   \n",
            "bedrooms                    0.219165  0.904007    0.157964   \n",
            "floors                      0.384562  1.000000    0.000000   \n",
            "furnishing                  0.235825  0.195203    0.367201   \n",
            "property_type               0.000000  0.470622    0.000000   \n",
            "lat                         0.317036  0.389750    0.227414   \n",
            "property_condition          0.266513  0.000000    0.614950   \n",
            "long                        0.311968  0.388038    0.000000   \n",
            "building_orientation        0.174339  0.271476    0.255521   \n",
            "certificate                 0.075227  0.013117    0.000000   \n",
            "\n",
            "                      property_condition  building_orientation   garages  \\\n",
            "price_in_rp                     0.222444              0.000000  0.747431   \n",
            "ads_id                          1.000000              1.000000  1.000000   \n",
            "facilities                      0.889243              0.000000  0.998976   \n",
            "building_size_m2                0.268824              0.205144  0.795342   \n",
            "district                        0.118906              0.566335  0.777372   \n",
            "electricity                     0.000000              0.000000  0.409730   \n",
            "carports                        0.000000              0.000000  0.256926   \n",
            "garages                         0.000000              0.000000  1.000000   \n",
            "city                            0.127575              0.106506  0.437060   \n",
            "land_size_m2                    0.000000              0.228769  0.843500   \n",
            "maid_bathrooms                  0.266513              0.174339  0.599064   \n",
            "maid_bedrooms                   0.203305              0.191052  0.458922   \n",
            "year_built                      0.614950              0.255521  0.149554   \n",
            "bathrooms                       0.000000              0.000000  0.672422   \n",
            "bedrooms                        0.000000              0.000000  0.706185   \n",
            "floors                          0.000000              0.271476  0.650069   \n",
            "furnishing                      0.747108              0.095100  0.299757   \n",
            "property_type                   0.120108              0.000000  0.764158   \n",
            "lat                             0.000000              0.257198  0.360735   \n",
            "property_condition              1.000000              0.149855  0.000000   \n",
            "long                            0.247453              0.039681  0.060104   \n",
            "building_orientation            0.149855              1.000000  0.000000   \n",
            "certificate                     0.138146              0.000000  0.000000   \n",
            "\n",
            "                      furnishing  \n",
            "price_in_rp             0.260860  \n",
            "ads_id                  1.000000  \n",
            "facilities              0.985191  \n",
            "building_size_m2        0.376015  \n",
            "district                0.000000  \n",
            "electricity             0.227326  \n",
            "carports                0.245154  \n",
            "garages                 0.299757  \n",
            "city                    0.269860  \n",
            "land_size_m2            0.156691  \n",
            "maid_bathrooms          0.235825  \n",
            "maid_bedrooms           0.253271  \n",
            "year_built              0.367201  \n",
            "bathrooms               0.128691  \n",
            "bedrooms                0.101527  \n",
            "floors                  0.195203  \n",
            "furnishing              1.000000  \n",
            "property_type           0.051052  \n",
            "lat                     0.310991  \n",
            "property_condition      0.747108  \n",
            "long                    0.149359  \n",
            "building_orientation    0.095100  \n",
            "certificate             0.000000  \n",
            "\n",
            "[23 rows x 23 columns]\n"
          ]
        }
      ],
      "source": [
        "#resampling\n",
        "sample_size = 500\n",
        "df_dc_resampled = df_dc.sample(n=sample_size, random_state=42)\n",
        "\n",
        "#korelasi\n",
        "cor_tbl = df_dc_resampled.phik_matrix()\n",
        "cor_tbl.sort_values(by=['price_in_rp'], ascending=False, inplace=True)\n",
        "\n",
        "print(cor_tbl)"
      ]
    },
    {
      "cell_type": "code",
      "source": [
        "#memunculkan fitur yang memiliki korelasi diatas 0,4\n",
        "filtered_cor_tbl = cor_tbl.query('price_in_rp > 0.4')\n",
        "print(filtered_cor_tbl)\n"
      ],
      "metadata": {
        "colab": {
          "base_uri": "https://localhost:8080/"
        },
        "id": "eu9pRW7HQXIw",
        "outputId": "733814f5-99c7-43bf-8082-e11a6c5774cb"
      },
      "execution_count": 23,
      "outputs": [
        {
          "output_type": "stream",
          "name": "stdout",
          "text": [
            "                  price_in_rp  district      city       lat      long  \\\n",
            "price_in_rp          1.000000  0.837739  0.741602  0.249392  0.000000   \n",
            "ads_id               1.000000  1.000000  1.000000  1.000000  1.000000   \n",
            "facilities           0.911419  0.997415  0.933012  0.541442  0.664230   \n",
            "building_size_m2     0.845828  0.637042  0.584528  0.219419  0.000000   \n",
            "district             0.837739  1.000000  0.999014  0.999396  0.999521   \n",
            "electricity          0.805770  0.713900  0.468519  0.076461  0.000000   \n",
            "carports             0.762383  0.853240  0.374420  0.000000  0.000000   \n",
            "garages              0.747431  0.777372  0.437060  0.360735  0.060104   \n",
            "city                 0.741602  0.999014  1.000000  0.772369  0.772910   \n",
            "land_size_m2         0.688730  0.801136  0.227414  0.470829  0.000000   \n",
            "maid_bathrooms       0.622413  0.817428  0.566554  0.317036  0.311968   \n",
            "maid_bedrooms        0.601688  0.413388  0.390569  0.208611  0.328334   \n",
            "year_built           0.581749  0.575509  0.383773  0.227414  0.000000   \n",
            "bathrooms            0.423965  0.983925  0.130473  0.341403  0.000000   \n",
            "bedrooms             0.404629  0.964884  0.200711  0.154238  0.000000   \n",
            "\n",
            "                  facilities  property_type    ads_id  bedrooms  bathrooms  \\\n",
            "price_in_rp         0.911419       0.250674  1.000000  0.404629   0.423965   \n",
            "ads_id              0.999901       1.000000  1.000000  1.000000   1.000000   \n",
            "facilities          1.000000       0.754051  0.999901  0.958097   0.995722   \n",
            "building_size_m2    0.894491       0.624431  1.000000  0.812831   0.754981   \n",
            "district            0.997415       0.952352  1.000000  0.964884   0.983925   \n",
            "electricity         0.996122       0.543302  1.000000  0.697209   0.711241   \n",
            "carports            0.890245       0.000000  1.000000  0.566232   0.594914   \n",
            "garages             0.998976       0.764158  1.000000  0.706185   0.672422   \n",
            "city                0.933012       0.157126  1.000000  0.200711   0.130473   \n",
            "land_size_m2        0.955743       0.575542  1.000000  0.455607   0.446703   \n",
            "maid_bathrooms      0.987864       0.000000  1.000000  0.219165   0.152741   \n",
            "maid_bedrooms       0.980229       0.000000  1.000000  0.481600   0.379788   \n",
            "year_built          0.933269       0.000000  1.000000  0.157964   0.000000   \n",
            "bathrooms           0.995722       0.681185  1.000000  0.986390   1.000000   \n",
            "bedrooms            0.958097       0.745327  1.000000  1.000000   0.986390   \n",
            "\n",
            "                  ...  certificate  electricity  maid_bedrooms  \\\n",
            "price_in_rp       ...     0.000000     0.805770       0.601688   \n",
            "ads_id            ...     1.000000     1.000000       1.000000   \n",
            "facilities        ...     0.895546     0.996122       0.980229   \n",
            "building_size_m2  ...     0.119823     0.534305       0.671291   \n",
            "district          ...     0.000000     0.713900       0.413388   \n",
            "electricity       ...     0.000000     1.000000       0.475467   \n",
            "carports          ...     0.000000     0.690145       0.498158   \n",
            "garages           ...     0.000000     0.409730       0.458922   \n",
            "city              ...     0.263742     0.468519       0.390569   \n",
            "land_size_m2      ...     0.000000     0.357574       0.350883   \n",
            "maid_bathrooms    ...     0.075227     0.452255       0.654040   \n",
            "maid_bedrooms     ...     0.000000     0.475467       1.000000   \n",
            "year_built        ...     0.000000     0.486045       0.578660   \n",
            "bathrooms         ...     0.000000     0.711241       0.379788   \n",
            "bedrooms          ...     0.000000     0.697209       0.481600   \n",
            "\n",
            "                  maid_bathrooms    floors  year_built  property_condition  \\\n",
            "price_in_rp             0.622413  0.378737    0.581749            0.222444   \n",
            "ads_id                  1.000000  1.000000    1.000000            1.000000   \n",
            "facilities              0.987864  0.955059    0.933269            0.889243   \n",
            "building_size_m2        0.805106  0.817332    0.536602            0.268824   \n",
            "district                0.817428  0.908296    0.575509            0.118906   \n",
            "electricity             0.452255  0.222006    0.486045            0.000000   \n",
            "carports                0.416155  0.276547    0.474233            0.000000   \n",
            "garages                 0.599064  0.650069    0.149554            0.000000   \n",
            "city                    0.566554  0.392056    0.383773            0.127575   \n",
            "land_size_m2            0.406335  0.127051    0.575810            0.000000   \n",
            "maid_bathrooms          1.000000  0.384562    0.460217            0.266513   \n",
            "maid_bedrooms           0.654040  0.457744    0.578660            0.203305   \n",
            "year_built              0.460217  0.000000    1.000000            0.614950   \n",
            "bathrooms               0.152741  0.885936    0.000000            0.000000   \n",
            "bedrooms                0.219165  0.904007    0.157964            0.000000   \n",
            "\n",
            "                  building_orientation   garages  furnishing  \n",
            "price_in_rp                   0.000000  0.747431    0.260860  \n",
            "ads_id                        1.000000  1.000000    1.000000  \n",
            "facilities                    0.000000  0.998976    0.985191  \n",
            "building_size_m2              0.205144  0.795342    0.376015  \n",
            "district                      0.566335  0.777372    0.000000  \n",
            "electricity                   0.000000  0.409730    0.227326  \n",
            "carports                      0.000000  0.256926    0.245154  \n",
            "garages                       0.000000  1.000000    0.299757  \n",
            "city                          0.106506  0.437060    0.269860  \n",
            "land_size_m2                  0.228769  0.843500    0.156691  \n",
            "maid_bathrooms                0.174339  0.599064    0.235825  \n",
            "maid_bedrooms                 0.191052  0.458922    0.253271  \n",
            "year_built                    0.255521  0.149554    0.367201  \n",
            "bathrooms                     0.000000  0.672422    0.128691  \n",
            "bedrooms                      0.000000  0.706185    0.101527  \n",
            "\n",
            "[15 rows x 23 columns]\n"
          ]
        }
      ]
    },
    {
      "cell_type": "markdown",
      "metadata": {
        "id": "leCDVjjiAXs2"
      },
      "source": [
        "Berdasarkan hasil uji korelasi diatas, peneliti hanya mengambil fitur-fitur yang memiliki skor diatas 0,5. Berdasarkan uji korelasi diatas, berikut beberapa fitur terpilih :\n",
        "\n",
        "1. facilities\n",
        "2. building_size_m2\n",
        "3. district\n",
        "4. electricity\n",
        "5. carports\n",
        "6. garages\n",
        "7. city\n",
        "8. land_size_m2\n",
        "9. maid_bathrooms\n",
        "10. maid_bedrooms\n",
        "11. year_built\n",
        "12. bathrooms\n",
        "13. bedrooms         \n",
        "\n",
        "\n"
      ]
    },
    {
      "cell_type": "code",
      "execution_count": 24,
      "metadata": {
        "id": "wbbhXgCKAXs3"
      },
      "outputs": [],
      "source": [
        "#menentukan kolom untuk target dan fitur\n",
        "selected_features = ['facilities','building_size_m2', 'district', 'electricity', 'carports', 'garages', 'city', 'land_size_m2', 'maid_bathrooms', 'maid_bedrooms', 'year_built', 'bathrooms', 'bedrooms']\n",
        "\n",
        "X = df_dc[selected_features]\n",
        "y = df_dc['price_in_rp']"
      ]
    },
    {
      "cell_type": "markdown",
      "metadata": {
        "id": "6apRv0MfAXs3"
      },
      "source": [
        "#### **CEK MISSING VALUE**"
      ]
    },
    {
      "cell_type": "code",
      "execution_count": 25,
      "metadata": {
        "colab": {
          "base_uri": "https://localhost:8080/"
        },
        "id": "P7wZGkWEAXs3",
        "outputId": "94a78860-5436-4e65-9b4f-6e7aa168d7be"
      },
      "outputs": [
        {
          "output_type": "stream",
          "name": "stdout",
          "text": [
            "facilities             0\n",
            "building_size_m2       2\n",
            "district               0\n",
            "electricity            0\n",
            "carports               0\n",
            "garages                0\n",
            "city                   0\n",
            "land_size_m2           2\n",
            "maid_bathrooms         0\n",
            "maid_bedrooms          0\n",
            "year_built          1445\n",
            "bathrooms             29\n",
            "bedrooms              34\n",
            "dtype: int64\n"
          ]
        }
      ],
      "source": [
        "#hitung jumlah kolom-kolom yang memiliki missing value\n",
        "missing_values = X.isnull().sum()\n",
        "\n",
        "print(missing_values)"
      ]
    },
    {
      "cell_type": "code",
      "execution_count": 26,
      "metadata": {
        "colab": {
          "base_uri": "https://localhost:8080/"
        },
        "id": "tKJU5hLuAXs3",
        "outputId": "72c6a6a7-89b2-4d3c-f1ab-6afbf233e2d7"
      },
      "outputs": [
        {
          "output_type": "stream",
          "name": "stdout",
          "text": [
            "<class 'pandas.core.frame.DataFrame'>\n",
            "RangeIndex: 3553 entries, 0 to 3552\n",
            "Data columns (total 13 columns):\n",
            " #   Column            Non-Null Count  Dtype  \n",
            "---  ------            --------------  -----  \n",
            " 0   facilities        3553 non-null   object \n",
            " 1   building_size_m2  3551 non-null   float64\n",
            " 2   district          3553 non-null   object \n",
            " 3   electricity       3553 non-null   float64\n",
            " 4   carports          3553 non-null   float64\n",
            " 5   garages           3553 non-null   float64\n",
            " 6   city              3553 non-null   object \n",
            " 7   land_size_m2      3551 non-null   float64\n",
            " 8   maid_bathrooms    3553 non-null   float64\n",
            " 9   maid_bedrooms     3553 non-null   float64\n",
            " 10  year_built        2108 non-null   float64\n",
            " 11  bathrooms         3524 non-null   float64\n",
            " 12  bedrooms          3519 non-null   float64\n",
            "dtypes: float64(10), object(3)\n",
            "memory usage: 361.0+ KB\n"
          ]
        }
      ],
      "source": [
        "X.info()"
      ]
    },
    {
      "cell_type": "markdown",
      "metadata": {
        "id": "OG-36AJOAXs4"
      },
      "source": [
        "Missing values akan di handling bersamaan dengan pembuatan *pipeline* dimana missing value pada ketiga kolom diatas akan diisi dengan nilai median."
      ]
    },
    {
      "cell_type": "markdown",
      "metadata": {
        "id": "ZjJkwh8WAXs4"
      },
      "source": [
        "### B.3. DATA SPLITING"
      ]
    },
    {
      "cell_type": "code",
      "execution_count": 27,
      "metadata": {
        "id": "5OXevQMfAXs4"
      },
      "outputs": [],
      "source": [
        "# Split data menjadi training dan testing set\n",
        "X_train, X_test, y_train, y_test = train_test_split(X, y, test_size=0.2, random_state=42)"
      ]
    },
    {
      "cell_type": "code",
      "source": [
        "X_train"
      ],
      "metadata": {
        "colab": {
          "base_uri": "https://localhost:8080/",
          "height": 974
        },
        "id": "Bt-nX38OTDdf",
        "outputId": "c2d35d03-fbb5-4ebc-b792-2bec8fbe9cb5"
      },
      "execution_count": 28,
      "outputs": [
        {
          "output_type": "execute_result",
          "data": {
            "text/plain": [
              "                                             facilities  building_size_m2  \\\n",
              "1128                                    Taman, Keamanan             200.0   \n",
              "3434   Taman, Jalur Telepon, Keamanan, Keamanan 24 j...             110.0   \n",
              "195   Tempat Jemuran,  Ac,  Jogging Track, Lapangan ...             310.0   \n",
              "532                              Taman, Keamanan 24 jam              80.0   \n",
              "2478                                      Jalur Telepon             854.0   \n",
              "...                                                 ...               ...   \n",
              "1130                                    Taman, Keamanan             200.0   \n",
              "1294  Keamanan 24 jam,  Taman, Jalur Telepon, Masjid...              60.0   \n",
              "860      Jalur Telepon, Taman,  Keamanan,  Kolam Renang             600.0   \n",
              "3507                                    Keamanan, Taman             595.0   \n",
              "3174   Keamanan, Jalur Telepon, Wastafel,  Track Lar...             214.0   \n",
              "\n",
              "                     district  electricity  carports  garages  \\\n",
              "1128                 Ciparigi       3500.0       0.0      1.0   \n",
              "3434                    Poris       2200.0       0.0      1.0   \n",
              "195               Mustikajaya       3300.0       1.0      0.0   \n",
              "532               Pondok Ungu       1300.0       2.0      2.0   \n",
              "2478             Pondok Indah       7700.0       0.0      0.0   \n",
              "...                       ...          ...       ...      ...   \n",
              "1130                 Ciparigi       3500.0       1.0      1.0   \n",
              "1294                   Parung       1300.0       1.0      0.0   \n",
              "860               Sentul City       5500.0       2.0      2.0   \n",
              "3507  Sutera Onix Alam Sutera       5500.0       2.0      2.0   \n",
              "3174             Sindang Jaya       3500.0       3.0      0.0   \n",
              "\n",
              "                  city  land_size_m2  maid_bathrooms  maid_bedrooms  \\\n",
              "1128             Bogor         153.0             0.0            1.0   \n",
              "3434         Tangerang          55.0             0.0            0.0   \n",
              "195             Bekasi         210.0             1.0            1.0   \n",
              "532             Bekasi         119.0             0.0            0.0   \n",
              "2478   Jakarta Selatan         850.0             2.0            2.0   \n",
              "...                ...           ...             ...            ...   \n",
              "1130             Bogor         153.0             0.0            1.0   \n",
              "1294             Bogor          64.0             0.0            0.0   \n",
              "860              Bogor        1118.0             1.0            1.0   \n",
              "3507         Tangerang         383.0             1.0            2.0   \n",
              "3174         Tangerang         180.0             1.0            1.0   \n",
              "\n",
              "      year_built  bathrooms  bedrooms  \n",
              "1128         NaN        3.0       4.0  \n",
              "3434         NaN        2.0       3.0  \n",
              "195       2015.0        4.0       4.0  \n",
              "532          NaN        1.0       2.0  \n",
              "2478      2007.0        5.0       6.0  \n",
              "...          ...        ...       ...  \n",
              "1130         NaN        3.0       4.0  \n",
              "1294      2022.0        2.0       3.0  \n",
              "860       2021.0        6.0       6.0  \n",
              "3507      2011.0        4.0       4.0  \n",
              "3174      2022.0        4.0       4.0  \n",
              "\n",
              "[2842 rows x 13 columns]"
            ],
            "text/html": [
              "\n",
              "\n",
              "  <div id=\"df-eeaea51b-c22c-41bd-8f10-a58776be6f34\">\n",
              "    <div class=\"colab-df-container\">\n",
              "      <div>\n",
              "<style scoped>\n",
              "    .dataframe tbody tr th:only-of-type {\n",
              "        vertical-align: middle;\n",
              "    }\n",
              "\n",
              "    .dataframe tbody tr th {\n",
              "        vertical-align: top;\n",
              "    }\n",
              "\n",
              "    .dataframe thead th {\n",
              "        text-align: right;\n",
              "    }\n",
              "</style>\n",
              "<table border=\"1\" class=\"dataframe\">\n",
              "  <thead>\n",
              "    <tr style=\"text-align: right;\">\n",
              "      <th></th>\n",
              "      <th>facilities</th>\n",
              "      <th>building_size_m2</th>\n",
              "      <th>district</th>\n",
              "      <th>electricity</th>\n",
              "      <th>carports</th>\n",
              "      <th>garages</th>\n",
              "      <th>city</th>\n",
              "      <th>land_size_m2</th>\n",
              "      <th>maid_bathrooms</th>\n",
              "      <th>maid_bedrooms</th>\n",
              "      <th>year_built</th>\n",
              "      <th>bathrooms</th>\n",
              "      <th>bedrooms</th>\n",
              "    </tr>\n",
              "  </thead>\n",
              "  <tbody>\n",
              "    <tr>\n",
              "      <th>1128</th>\n",
              "      <td>Taman, Keamanan</td>\n",
              "      <td>200.0</td>\n",
              "      <td>Ciparigi</td>\n",
              "      <td>3500.0</td>\n",
              "      <td>0.0</td>\n",
              "      <td>1.0</td>\n",
              "      <td>Bogor</td>\n",
              "      <td>153.0</td>\n",
              "      <td>0.0</td>\n",
              "      <td>1.0</td>\n",
              "      <td>NaN</td>\n",
              "      <td>3.0</td>\n",
              "      <td>4.0</td>\n",
              "    </tr>\n",
              "    <tr>\n",
              "      <th>3434</th>\n",
              "      <td>Taman, Jalur Telepon, Keamanan, Keamanan 24 j...</td>\n",
              "      <td>110.0</td>\n",
              "      <td>Poris</td>\n",
              "      <td>2200.0</td>\n",
              "      <td>0.0</td>\n",
              "      <td>1.0</td>\n",
              "      <td>Tangerang</td>\n",
              "      <td>55.0</td>\n",
              "      <td>0.0</td>\n",
              "      <td>0.0</td>\n",
              "      <td>NaN</td>\n",
              "      <td>2.0</td>\n",
              "      <td>3.0</td>\n",
              "    </tr>\n",
              "    <tr>\n",
              "      <th>195</th>\n",
              "      <td>Tempat Jemuran,  Ac,  Jogging Track, Lapangan ...</td>\n",
              "      <td>310.0</td>\n",
              "      <td>Mustikajaya</td>\n",
              "      <td>3300.0</td>\n",
              "      <td>1.0</td>\n",
              "      <td>0.0</td>\n",
              "      <td>Bekasi</td>\n",
              "      <td>210.0</td>\n",
              "      <td>1.0</td>\n",
              "      <td>1.0</td>\n",
              "      <td>2015.0</td>\n",
              "      <td>4.0</td>\n",
              "      <td>4.0</td>\n",
              "    </tr>\n",
              "    <tr>\n",
              "      <th>532</th>\n",
              "      <td>Taman, Keamanan 24 jam</td>\n",
              "      <td>80.0</td>\n",
              "      <td>Pondok Ungu</td>\n",
              "      <td>1300.0</td>\n",
              "      <td>2.0</td>\n",
              "      <td>2.0</td>\n",
              "      <td>Bekasi</td>\n",
              "      <td>119.0</td>\n",
              "      <td>0.0</td>\n",
              "      <td>0.0</td>\n",
              "      <td>NaN</td>\n",
              "      <td>1.0</td>\n",
              "      <td>2.0</td>\n",
              "    </tr>\n",
              "    <tr>\n",
              "      <th>2478</th>\n",
              "      <td>Jalur Telepon</td>\n",
              "      <td>854.0</td>\n",
              "      <td>Pondok Indah</td>\n",
              "      <td>7700.0</td>\n",
              "      <td>0.0</td>\n",
              "      <td>0.0</td>\n",
              "      <td>Jakarta Selatan</td>\n",
              "      <td>850.0</td>\n",
              "      <td>2.0</td>\n",
              "      <td>2.0</td>\n",
              "      <td>2007.0</td>\n",
              "      <td>5.0</td>\n",
              "      <td>6.0</td>\n",
              "    </tr>\n",
              "    <tr>\n",
              "      <th>...</th>\n",
              "      <td>...</td>\n",
              "      <td>...</td>\n",
              "      <td>...</td>\n",
              "      <td>...</td>\n",
              "      <td>...</td>\n",
              "      <td>...</td>\n",
              "      <td>...</td>\n",
              "      <td>...</td>\n",
              "      <td>...</td>\n",
              "      <td>...</td>\n",
              "      <td>...</td>\n",
              "      <td>...</td>\n",
              "      <td>...</td>\n",
              "    </tr>\n",
              "    <tr>\n",
              "      <th>1130</th>\n",
              "      <td>Taman, Keamanan</td>\n",
              "      <td>200.0</td>\n",
              "      <td>Ciparigi</td>\n",
              "      <td>3500.0</td>\n",
              "      <td>1.0</td>\n",
              "      <td>1.0</td>\n",
              "      <td>Bogor</td>\n",
              "      <td>153.0</td>\n",
              "      <td>0.0</td>\n",
              "      <td>1.0</td>\n",
              "      <td>NaN</td>\n",
              "      <td>3.0</td>\n",
              "      <td>4.0</td>\n",
              "    </tr>\n",
              "    <tr>\n",
              "      <th>1294</th>\n",
              "      <td>Keamanan 24 jam,  Taman, Jalur Telepon, Masjid...</td>\n",
              "      <td>60.0</td>\n",
              "      <td>Parung</td>\n",
              "      <td>1300.0</td>\n",
              "      <td>1.0</td>\n",
              "      <td>0.0</td>\n",
              "      <td>Bogor</td>\n",
              "      <td>64.0</td>\n",
              "      <td>0.0</td>\n",
              "      <td>0.0</td>\n",
              "      <td>2022.0</td>\n",
              "      <td>2.0</td>\n",
              "      <td>3.0</td>\n",
              "    </tr>\n",
              "    <tr>\n",
              "      <th>860</th>\n",
              "      <td>Jalur Telepon, Taman,  Keamanan,  Kolam Renang</td>\n",
              "      <td>600.0</td>\n",
              "      <td>Sentul City</td>\n",
              "      <td>5500.0</td>\n",
              "      <td>2.0</td>\n",
              "      <td>2.0</td>\n",
              "      <td>Bogor</td>\n",
              "      <td>1118.0</td>\n",
              "      <td>1.0</td>\n",
              "      <td>1.0</td>\n",
              "      <td>2021.0</td>\n",
              "      <td>6.0</td>\n",
              "      <td>6.0</td>\n",
              "    </tr>\n",
              "    <tr>\n",
              "      <th>3507</th>\n",
              "      <td>Keamanan, Taman</td>\n",
              "      <td>595.0</td>\n",
              "      <td>Sutera Onix Alam Sutera</td>\n",
              "      <td>5500.0</td>\n",
              "      <td>2.0</td>\n",
              "      <td>2.0</td>\n",
              "      <td>Tangerang</td>\n",
              "      <td>383.0</td>\n",
              "      <td>1.0</td>\n",
              "      <td>2.0</td>\n",
              "      <td>2011.0</td>\n",
              "      <td>4.0</td>\n",
              "      <td>4.0</td>\n",
              "    </tr>\n",
              "    <tr>\n",
              "      <th>3174</th>\n",
              "      <td>Keamanan, Jalur Telepon, Wastafel,  Track Lar...</td>\n",
              "      <td>214.0</td>\n",
              "      <td>Sindang Jaya</td>\n",
              "      <td>3500.0</td>\n",
              "      <td>3.0</td>\n",
              "      <td>0.0</td>\n",
              "      <td>Tangerang</td>\n",
              "      <td>180.0</td>\n",
              "      <td>1.0</td>\n",
              "      <td>1.0</td>\n",
              "      <td>2022.0</td>\n",
              "      <td>4.0</td>\n",
              "      <td>4.0</td>\n",
              "    </tr>\n",
              "  </tbody>\n",
              "</table>\n",
              "<p>2842 rows × 13 columns</p>\n",
              "</div>\n",
              "      <button class=\"colab-df-convert\" onclick=\"convertToInteractive('df-eeaea51b-c22c-41bd-8f10-a58776be6f34')\"\n",
              "              title=\"Convert this dataframe to an interactive table.\"\n",
              "              style=\"display:none;\">\n",
              "\n",
              "  <svg xmlns=\"http://www.w3.org/2000/svg\" height=\"24px\"viewBox=\"0 0 24 24\"\n",
              "       width=\"24px\">\n",
              "    <path d=\"M0 0h24v24H0V0z\" fill=\"none\"/>\n",
              "    <path d=\"M18.56 5.44l.94 2.06.94-2.06 2.06-.94-2.06-.94-.94-2.06-.94 2.06-2.06.94zm-11 1L8.5 8.5l.94-2.06 2.06-.94-2.06-.94L8.5 2.5l-.94 2.06-2.06.94zm10 10l.94 2.06.94-2.06 2.06-.94-2.06-.94-.94-2.06-.94 2.06-2.06.94z\"/><path d=\"M17.41 7.96l-1.37-1.37c-.4-.4-.92-.59-1.43-.59-.52 0-1.04.2-1.43.59L10.3 9.45l-7.72 7.72c-.78.78-.78 2.05 0 2.83L4 21.41c.39.39.9.59 1.41.59.51 0 1.02-.2 1.41-.59l7.78-7.78 2.81-2.81c.8-.78.8-2.07 0-2.86zM5.41 20L4 18.59l7.72-7.72 1.47 1.35L5.41 20z\"/>\n",
              "  </svg>\n",
              "      </button>\n",
              "\n",
              "\n",
              "\n",
              "    <div id=\"df-033b8ac9-8591-405c-9a98-b3b5de07c11a\">\n",
              "      <button class=\"colab-df-quickchart\" onclick=\"quickchart('df-033b8ac9-8591-405c-9a98-b3b5de07c11a')\"\n",
              "              title=\"Suggest charts.\"\n",
              "              style=\"display:none;\">\n",
              "\n",
              "<svg xmlns=\"http://www.w3.org/2000/svg\" height=\"24px\"viewBox=\"0 0 24 24\"\n",
              "     width=\"24px\">\n",
              "    <g>\n",
              "        <path d=\"M19 3H5c-1.1 0-2 .9-2 2v14c0 1.1.9 2 2 2h14c1.1 0 2-.9 2-2V5c0-1.1-.9-2-2-2zM9 17H7v-7h2v7zm4 0h-2V7h2v10zm4 0h-2v-4h2v4z\"/>\n",
              "    </g>\n",
              "</svg>\n",
              "      </button>\n",
              "    </div>\n",
              "\n",
              "<style>\n",
              "  .colab-df-quickchart {\n",
              "    background-color: #E8F0FE;\n",
              "    border: none;\n",
              "    border-radius: 50%;\n",
              "    cursor: pointer;\n",
              "    display: none;\n",
              "    fill: #1967D2;\n",
              "    height: 32px;\n",
              "    padding: 0 0 0 0;\n",
              "    width: 32px;\n",
              "  }\n",
              "\n",
              "  .colab-df-quickchart:hover {\n",
              "    background-color: #E2EBFA;\n",
              "    box-shadow: 0px 1px 2px rgba(60, 64, 67, 0.3), 0px 1px 3px 1px rgba(60, 64, 67, 0.15);\n",
              "    fill: #174EA6;\n",
              "  }\n",
              "\n",
              "  [theme=dark] .colab-df-quickchart {\n",
              "    background-color: #3B4455;\n",
              "    fill: #D2E3FC;\n",
              "  }\n",
              "\n",
              "  [theme=dark] .colab-df-quickchart:hover {\n",
              "    background-color: #434B5C;\n",
              "    box-shadow: 0px 1px 3px 1px rgba(0, 0, 0, 0.15);\n",
              "    filter: drop-shadow(0px 1px 2px rgba(0, 0, 0, 0.3));\n",
              "    fill: #FFFFFF;\n",
              "  }\n",
              "</style>\n",
              "\n",
              "    <script>\n",
              "      async function quickchart(key) {\n",
              "        const containerElement = document.querySelector('#' + key);\n",
              "        const charts = await google.colab.kernel.invokeFunction(\n",
              "            'suggestCharts', [key], {});\n",
              "      }\n",
              "    </script>\n",
              "\n",
              "      <script>\n",
              "\n",
              "function displayQuickchartButton(domScope) {\n",
              "  let quickchartButtonEl =\n",
              "    domScope.querySelector('#df-033b8ac9-8591-405c-9a98-b3b5de07c11a button.colab-df-quickchart');\n",
              "  quickchartButtonEl.style.display =\n",
              "    google.colab.kernel.accessAllowed ? 'block' : 'none';\n",
              "}\n",
              "\n",
              "        displayQuickchartButton(document);\n",
              "      </script>\n",
              "      <style>\n",
              "    .colab-df-container {\n",
              "      display:flex;\n",
              "      flex-wrap:wrap;\n",
              "      gap: 12px;\n",
              "    }\n",
              "\n",
              "    .colab-df-convert {\n",
              "      background-color: #E8F0FE;\n",
              "      border: none;\n",
              "      border-radius: 50%;\n",
              "      cursor: pointer;\n",
              "      display: none;\n",
              "      fill: #1967D2;\n",
              "      height: 32px;\n",
              "      padding: 0 0 0 0;\n",
              "      width: 32px;\n",
              "    }\n",
              "\n",
              "    .colab-df-convert:hover {\n",
              "      background-color: #E2EBFA;\n",
              "      box-shadow: 0px 1px 2px rgba(60, 64, 67, 0.3), 0px 1px 3px 1px rgba(60, 64, 67, 0.15);\n",
              "      fill: #174EA6;\n",
              "    }\n",
              "\n",
              "    [theme=dark] .colab-df-convert {\n",
              "      background-color: #3B4455;\n",
              "      fill: #D2E3FC;\n",
              "    }\n",
              "\n",
              "    [theme=dark] .colab-df-convert:hover {\n",
              "      background-color: #434B5C;\n",
              "      box-shadow: 0px 1px 3px 1px rgba(0, 0, 0, 0.15);\n",
              "      filter: drop-shadow(0px 1px 2px rgba(0, 0, 0, 0.3));\n",
              "      fill: #FFFFFF;\n",
              "    }\n",
              "  </style>\n",
              "\n",
              "      <script>\n",
              "        const buttonEl =\n",
              "          document.querySelector('#df-eeaea51b-c22c-41bd-8f10-a58776be6f34 button.colab-df-convert');\n",
              "        buttonEl.style.display =\n",
              "          google.colab.kernel.accessAllowed ? 'block' : 'none';\n",
              "\n",
              "        async function convertToInteractive(key) {\n",
              "          const element = document.querySelector('#df-eeaea51b-c22c-41bd-8f10-a58776be6f34');\n",
              "          const dataTable =\n",
              "            await google.colab.kernel.invokeFunction('convertToInteractive',\n",
              "                                                     [key], {});\n",
              "          if (!dataTable) return;\n",
              "\n",
              "          const docLinkHtml = 'Like what you see? Visit the ' +\n",
              "            '<a target=\"_blank\" href=https://colab.research.google.com/notebooks/data_table.ipynb>data table notebook</a>'\n",
              "            + ' to learn more about interactive tables.';\n",
              "          element.innerHTML = '';\n",
              "          dataTable['output_type'] = 'display_data';\n",
              "          await google.colab.output.renderOutput(dataTable, element);\n",
              "          const docLink = document.createElement('div');\n",
              "          docLink.innerHTML = docLinkHtml;\n",
              "          element.appendChild(docLink);\n",
              "        }\n",
              "      </script>\n",
              "    </div>\n",
              "  </div>\n"
            ]
          },
          "metadata": {},
          "execution_count": 28
        }
      ]
    },
    {
      "cell_type": "markdown",
      "metadata": {
        "id": "7l2MrjMoAXs4"
      },
      "source": [
        "## C. **MODELING**"
      ]
    },
    {
      "cell_type": "markdown",
      "source": [
        "### C.1. PIPELINE"
      ],
      "metadata": {
        "id": "daveDPiQcYSX"
      }
    },
    {
      "cell_type": "code",
      "source": [
        "# Definisi fitur numerik dan kategorikal\n",
        "fitur_numerik = ['building_size_m2', 'electricity', 'carports', 'garages', 'land_size_m2', 'maid_bathrooms', 'maid_bedrooms', 'year_built', 'bathrooms', 'bedrooms']\n",
        "fitur_kategorik = ['facilities', 'district', 'city']\n",
        "\n",
        "# Pipeline untuk fitur numerik\n",
        "num_cols = Pipeline([\n",
        "    ('impute mean', SimpleImputer(strategy='median')),\n",
        "    ('winsorize', Winsorizer(capping_method='iqr', tail='both', fold=1.5)),\n",
        "    ('scaler', StandardScaler())\n",
        "])\n",
        "\n",
        "# Pipeline untuk fitur kategorikal\n",
        "cat_cols = Pipeline([\n",
        "    ('impute mode', SimpleImputer(strategy='most_frequent')),\n",
        "    ('onehotencoder', OneHotEncoder(handle_unknown='ignore'))\n",
        "])\n",
        "\n",
        "# Pipeline utama\n",
        "full_pipeline = ColumnTransformer(\n",
        "    transformers=[\n",
        "        (\"numerik\", num_cols, fitur_numerik),\n",
        "        (\"kategorik\", cat_cols, fitur_kategorik)\n",
        "    ]\n",
        ")"
      ],
      "metadata": {
        "id": "U0drZfwBUecx"
      },
      "execution_count": 29,
      "outputs": []
    },
    {
      "cell_type": "markdown",
      "source": [
        "### C.2. MODELING"
      ],
      "metadata": {
        "id": "6k5A6IIJbDjH"
      }
    },
    {
      "cell_type": "markdown",
      "source": [
        "**Linear Regression**"
      ],
      "metadata": {
        "id": "Amf114h_vmrP"
      }
    },
    {
      "cell_type": "code",
      "source": [
        "#pipeline Linear Regression\n",
        "linear_regression_pipeline = Pipeline([\n",
        "    ('preprocess', full_pipeline),\n",
        "    ('linear_regression', LinearRegression())\n",
        "])\n",
        "\n",
        "#melatih pipeline pada data training\n",
        "linear_regression_pipeline.fit(X_train, y_train)\n",
        "\n",
        "#prediksi harga pada data training dan testing\n",
        "y_train_pred = linear_regression_pipeline.predict(X_train)\n",
        "y_test_pred = linear_regression_pipeline.predict(X_test)\n",
        "\n",
        "#evaluasi model\n",
        "train_mse = mean_squared_error(y_train, y_train_pred)\n",
        "train_r2 = r2_score(y_train, y_train_pred)\n",
        "test_mse = mean_squared_error(y_test, y_test_pred)\n",
        "test_r2 = r2_score(y_test, y_test_pred)\n",
        "\n",
        "print(\"Linear Regressor\")\n",
        "print(\"Train MSE:\", train_mse)\n",
        "print(\"Train R2:\", train_r2)\n",
        "print(\"Test MSE:\", test_mse)\n",
        "print(\"Test R2:\", test_r2)\n"
      ],
      "metadata": {
        "colab": {
          "base_uri": "https://localhost:8080/"
        },
        "id": "m4senKVqbd6J",
        "outputId": "5e503635-1999-4b7a-bffd-738f22b2941e"
      },
      "execution_count": 30,
      "outputs": [
        {
          "output_type": "stream",
          "name": "stdout",
          "text": [
            "Linear Regressor\n",
            "Train MSE: 2.77997615973952e+18\n",
            "Train R2: 0.9336411667061327\n",
            "Test MSE: 4.368456244062616e+19\n",
            "Test R2: 0.27227792623254277\n"
          ]
        }
      ]
    },
    {
      "cell_type": "markdown",
      "source": [
        "**Random Forest Regressor**"
      ],
      "metadata": {
        "id": "haN75YwNvr9G"
      }
    },
    {
      "cell_type": "code",
      "execution_count": 31,
      "metadata": {
        "colab": {
          "base_uri": "https://localhost:8080/"
        },
        "id": "KgBQKSoZAXtD",
        "outputId": "b3c29837-8129-431f-acc8-1f136ff053c3"
      },
      "outputs": [
        {
          "output_type": "stream",
          "name": "stdout",
          "text": [
            "Random Forest Regressor\n",
            "Train MSE: 1.7468855420914086e+18\n",
            "Train R2: 0.9583013379215553\n",
            "Test MSE: 2.482840371337762e+19\n",
            "Test R2: 0.5863944508270593\n"
          ]
        }
      ],
      "source": [
        "#pipeline Random Forest Regressor\n",
        "random_forest_pipeline = Pipeline([\n",
        "    ('preprocess', full_pipeline),\n",
        "    ('random_forest', RandomForestRegressor(n_estimators=100, random_state=42))\n",
        "])\n",
        "\n",
        "#melatih pipeline pada data training\n",
        "random_forest_pipeline.fit(X_train, y_train)\n",
        "\n",
        "#prediksi harga pada data training dan testing\n",
        "y_train_pred = random_forest_pipeline.predict(X_train)\n",
        "y_test_pred = random_forest_pipeline.predict(X_test)\n",
        "\n",
        "#evaluasi model\n",
        "train_mse = mean_squared_error(y_train, y_train_pred)\n",
        "train_r2 = r2_score(y_train, y_train_pred)\n",
        "test_mse = mean_squared_error(y_test, y_test_pred)\n",
        "test_r2 = r2_score(y_test, y_test_pred)\n",
        "\n",
        "print(\"Random Forest Regressor\")\n",
        "print(\"Train MSE:\", train_mse)\n",
        "print(\"Train R2:\", train_r2)\n",
        "print(\"Test MSE:\", test_mse)\n",
        "print(\"Test R2:\", test_r2)"
      ]
    },
    {
      "cell_type": "markdown",
      "source": [
        "**Gradient Boosting Regressor**"
      ],
      "metadata": {
        "id": "OJGdspypvvGs"
      }
    },
    {
      "cell_type": "code",
      "execution_count": 32,
      "metadata": {
        "id": "NMWDG-G9AXtD",
        "colab": {
          "base_uri": "https://localhost:8080/"
        },
        "outputId": "27263ae0-8634-4bd0-edb5-305b9eea1fdb"
      },
      "outputs": [
        {
          "output_type": "stream",
          "name": "stdout",
          "text": [
            "Gradient Boosting Regressor\n",
            "Train MSE: 3.7038771205422643e+18\n",
            "Train R2: 0.9115873841140915\n",
            "Test MSE: 2.2699430574724473e+19\n",
            "Test R2: 0.6218600858454166\n"
          ]
        }
      ],
      "source": [
        "from sklearn.ensemble import GradientBoostingRegressor\n",
        "\n",
        "#pipeline Gradient Boosting Regressor\n",
        "gradient_boosting_pipeline = Pipeline([\n",
        "    ('preprocess', full_pipeline),\n",
        "    ('gradient_boosting', GradientBoostingRegressor(n_estimators=100, random_state=42))\n",
        "])\n",
        "\n",
        "#melatih pipeline pada data training\n",
        "gradient_boosting_pipeline.fit(X_train, y_train)\n",
        "\n",
        "#prediksi harga pada data training dan testing\n",
        "y_train_pred = gradient_boosting_pipeline.predict(X_train)\n",
        "y_test_pred = gradient_boosting_pipeline.predict(X_test)\n",
        "\n",
        "#evaluasi model\n",
        "train_mse = mean_squared_error(y_train, y_train_pred)\n",
        "train_r2 = r2_score(y_train, y_train_pred)\n",
        "test_mse = mean_squared_error(y_test, y_test_pred)\n",
        "test_r2 = r2_score(y_test, y_test_pred)\n",
        "\n",
        "print(\"Gradient Boosting Regressor\")\n",
        "print(\"Train MSE:\", train_mse)\n",
        "print(\"Train R2:\", train_r2)\n",
        "print(\"Test MSE:\", test_mse)\n",
        "print(\"Test R2:\", test_r2)\n"
      ]
    },
    {
      "cell_type": "markdown",
      "source": [
        "**Lasso Regression**"
      ],
      "metadata": {
        "id": "N4tFVJ8Zv8H7"
      }
    },
    {
      "cell_type": "code",
      "execution_count": 33,
      "metadata": {
        "id": "E_RkyxKDAXtE",
        "colab": {
          "base_uri": "https://localhost:8080/"
        },
        "outputId": "ef465bc3-bc34-49fe-8386-d82c181445f0"
      },
      "outputs": [
        {
          "output_type": "stream",
          "name": "stdout",
          "text": [
            "Lasso Regression\n",
            "Train MSE: 2.7799803615128387e+18\n",
            "Train R2: 0.9336410664085909\n",
            "Test MSE: 4.400868786742559e+19\n",
            "Test R2: 0.2668784621067013\n"
          ]
        }
      ],
      "source": [
        "from sklearn.linear_model import Lasso\n",
        "\n",
        "#pipeline Lasso Regression\n",
        "lasso_pipeline = Pipeline([\n",
        "    ('preprocess', full_pipeline),\n",
        "    ('lasso', Lasso(alpha=0.1, random_state=42))\n",
        "])\n",
        "\n",
        "#melatih pipeline pada data training\n",
        "lasso_pipeline.fit(X_train, y_train)\n",
        "\n",
        "#prediksi harga pada data training dan testing\n",
        "y_train_pred = lasso_pipeline.predict(X_train)\n",
        "y_test_pred = lasso_pipeline.predict(X_test)\n",
        "\n",
        "#evaluasi model\n",
        "train_mse = mean_squared_error(y_train, y_train_pred)\n",
        "train_r2 = r2_score(y_train, y_train_pred)\n",
        "test_mse = mean_squared_error(y_test, y_test_pred)\n",
        "test_r2 = r2_score(y_test, y_test_pred)\n",
        "\n",
        "print(\"Lasso Regression\")\n",
        "print(\"Train MSE:\", train_mse)\n",
        "print(\"Train R2:\", train_r2)\n",
        "print(\"Test MSE:\", test_mse)\n",
        "print(\"Test R2:\", test_r2)\n"
      ]
    },
    {
      "cell_type": "markdown",
      "source": [
        "Berdasarkan hasil pengujian beberapa model, model yang terbaik dihasilkan oleh Gradient Boosting Regressor, meski hasilnya masih terbilang overfit, maka dari itu peneliti akan melakukan model improvement dengan *tunning*"
      ],
      "metadata": {
        "id": "ok1K-vSIbHYU"
      }
    },
    {
      "cell_type": "markdown",
      "source": [
        "### C.3. MODEL IMPROVEMENT"
      ],
      "metadata": {
        "id": "m_Poj0kycbL3"
      }
    },
    {
      "cell_type": "code",
      "execution_count": 37,
      "metadata": {
        "id": "ZbHZMKsMAXtE",
        "colab": {
          "base_uri": "https://localhost:8080/"
        },
        "outputId": "8396bbb4-6369-4511-b0dc-c4d1e8101383"
      },
      "outputs": [
        {
          "output_type": "stream",
          "name": "stdout",
          "text": [
            "Tuned Gradient Boosting Regressor\n",
            "Best Parameters: {'gradient_boosting__learning_rate': 0.1, 'gradient_boosting__max_depth': 4, 'gradient_boosting__min_samples_leaf': 1, 'gradient_boosting__min_samples_split': 10, 'gradient_boosting__n_estimators': 150}\n",
            "Train MSE: 2.396514544952389e+18\n",
            "Train R2: 0.9427945061263674\n",
            "Test MSE: 2.4137914110540603e+19\n",
            "Test R2: 0.5978970159809252\n"
          ]
        }
      ],
      "source": [
        "#hyperparameter\n",
        "param_grid = {\n",
        "    'gradient_boosting__n_estimators': [50, 100, 150],\n",
        "    'gradient_boosting__max_depth': [3, 4, 5],\n",
        "    'gradient_boosting__min_samples_split': [2, 5, 10],\n",
        "    'gradient_boosting__min_samples_leaf': [1, 2, 4],\n",
        "    'gradient_boosting__learning_rate': [0.01, 0.1, 0.2]\n",
        "}\n",
        "\n",
        "#GridCV\n",
        "grid_search = GridSearchCV(gradient_boosting_pipeline, param_grid, cv=5, scoring='neg_mean_squared_error')\n",
        "\n",
        "#train GridCV\n",
        "grid_search.fit(X_train, y_train)\n",
        "\n",
        "#model terbaik\n",
        "best_model = grid_search.best_estimator_\n",
        "\n",
        "#prediksi\n",
        "y_train_pred = best_model.predict(X_train)\n",
        "y_test_pred = best_model.predict(X_test)\n",
        "\n",
        "#evaluasi\n",
        "train_mse = mean_squared_error(y_train, y_train_pred)\n",
        "train_r2 = r2_score(y_train, y_train_pred)\n",
        "test_mse = mean_squared_error(y_test, y_test_pred)\n",
        "test_r2 = r2_score(y_test, y_test_pred)\n",
        "\n",
        "print(\"Tuned Gradient Boosting Regressor\")\n",
        "print(\"Best Parameters:\", grid_search.best_params_)\n",
        "print(\"Train MSE:\", train_mse)\n",
        "print(\"Train R2:\", train_r2)\n",
        "print(\"Test MSE:\", test_mse)\n",
        "print(\"Test R2:\", test_r2)"
      ]
    },
    {
      "cell_type": "markdown",
      "source": [
        "Berdasarkan hasil *tunning* diatas, hasil yang ditunjukkan masih tergolong overfit. Oleh karenanya peneliti akan menggunakan based model terbaik yakni gradient boosting"
      ],
      "metadata": {
        "id": "xxxSErbEcj-8"
      }
    },
    {
      "cell_type": "markdown",
      "source": [
        "### C.4 MODEL SAVING"
      ],
      "metadata": {
        "id": "aRwduiqdcsl0"
      }
    },
    {
      "cell_type": "code",
      "source": [
        "gradient_boosting_pipeline"
      ],
      "metadata": {
        "colab": {
          "base_uri": "https://localhost:8080/",
          "height": 262
        },
        "id": "jqRnTqkG-lgn",
        "outputId": "bc5528ae-4c2a-492e-8a2b-76113b0e4afb"
      },
      "execution_count": 34,
      "outputs": [
        {
          "output_type": "execute_result",
          "data": {
            "text/plain": [
              "Pipeline(steps=[('preprocess',\n",
              "                 ColumnTransformer(transformers=[('numerik',\n",
              "                                                  Pipeline(steps=[('impute '\n",
              "                                                                   'mean',\n",
              "                                                                   SimpleImputer(strategy='median')),\n",
              "                                                                  ('winsorize',\n",
              "                                                                   Winsorizer(capping_method='iqr',\n",
              "                                                                              fold=1.5,\n",
              "                                                                              tail='both')),\n",
              "                                                                  ('scaler',\n",
              "                                                                   StandardScaler())]),\n",
              "                                                  ['building_size_m2',\n",
              "                                                   'electricity', 'carports',\n",
              "                                                   'garages', 'land_size_m2',\n",
              "                                                   'maid_bathrooms',\n",
              "                                                   'maid_bedrooms',\n",
              "                                                   'year_built', 'bathrooms',\n",
              "                                                   'bedrooms']),\n",
              "                                                 ('kategorik',\n",
              "                                                  Pipeline(steps=[('impute '\n",
              "                                                                   'mode',\n",
              "                                                                   SimpleImputer(strategy='most_frequent')),\n",
              "                                                                  ('onehotencoder',\n",
              "                                                                   OneHotEncoder(handle_unknown='ignore'))]),\n",
              "                                                  ['facilities', 'district',\n",
              "                                                   'city'])])),\n",
              "                ('gradient_boosting',\n",
              "                 GradientBoostingRegressor(random_state=42))])"
            ],
            "text/html": [
              "<style>#sk-container-id-1 {color: black;background-color: white;}#sk-container-id-1 pre{padding: 0;}#sk-container-id-1 div.sk-toggleable {background-color: white;}#sk-container-id-1 label.sk-toggleable__label {cursor: pointer;display: block;width: 100%;margin-bottom: 0;padding: 0.3em;box-sizing: border-box;text-align: center;}#sk-container-id-1 label.sk-toggleable__label-arrow:before {content: \"▸\";float: left;margin-right: 0.25em;color: #696969;}#sk-container-id-1 label.sk-toggleable__label-arrow:hover:before {color: black;}#sk-container-id-1 div.sk-estimator:hover label.sk-toggleable__label-arrow:before {color: black;}#sk-container-id-1 div.sk-toggleable__content {max-height: 0;max-width: 0;overflow: hidden;text-align: left;background-color: #f0f8ff;}#sk-container-id-1 div.sk-toggleable__content pre {margin: 0.2em;color: black;border-radius: 0.25em;background-color: #f0f8ff;}#sk-container-id-1 input.sk-toggleable__control:checked~div.sk-toggleable__content {max-height: 200px;max-width: 100%;overflow: auto;}#sk-container-id-1 input.sk-toggleable__control:checked~label.sk-toggleable__label-arrow:before {content: \"▾\";}#sk-container-id-1 div.sk-estimator input.sk-toggleable__control:checked~label.sk-toggleable__label {background-color: #d4ebff;}#sk-container-id-1 div.sk-label input.sk-toggleable__control:checked~label.sk-toggleable__label {background-color: #d4ebff;}#sk-container-id-1 input.sk-hidden--visually {border: 0;clip: rect(1px 1px 1px 1px);clip: rect(1px, 1px, 1px, 1px);height: 1px;margin: -1px;overflow: hidden;padding: 0;position: absolute;width: 1px;}#sk-container-id-1 div.sk-estimator {font-family: monospace;background-color: #f0f8ff;border: 1px dotted black;border-radius: 0.25em;box-sizing: border-box;margin-bottom: 0.5em;}#sk-container-id-1 div.sk-estimator:hover {background-color: #d4ebff;}#sk-container-id-1 div.sk-parallel-item::after {content: \"\";width: 100%;border-bottom: 1px solid gray;flex-grow: 1;}#sk-container-id-1 div.sk-label:hover label.sk-toggleable__label {background-color: #d4ebff;}#sk-container-id-1 div.sk-serial::before {content: \"\";position: absolute;border-left: 1px solid gray;box-sizing: border-box;top: 0;bottom: 0;left: 50%;z-index: 0;}#sk-container-id-1 div.sk-serial {display: flex;flex-direction: column;align-items: center;background-color: white;padding-right: 0.2em;padding-left: 0.2em;position: relative;}#sk-container-id-1 div.sk-item {position: relative;z-index: 1;}#sk-container-id-1 div.sk-parallel {display: flex;align-items: stretch;justify-content: center;background-color: white;position: relative;}#sk-container-id-1 div.sk-item::before, #sk-container-id-1 div.sk-parallel-item::before {content: \"\";position: absolute;border-left: 1px solid gray;box-sizing: border-box;top: 0;bottom: 0;left: 50%;z-index: -1;}#sk-container-id-1 div.sk-parallel-item {display: flex;flex-direction: column;z-index: 1;position: relative;background-color: white;}#sk-container-id-1 div.sk-parallel-item:first-child::after {align-self: flex-end;width: 50%;}#sk-container-id-1 div.sk-parallel-item:last-child::after {align-self: flex-start;width: 50%;}#sk-container-id-1 div.sk-parallel-item:only-child::after {width: 0;}#sk-container-id-1 div.sk-dashed-wrapped {border: 1px dashed gray;margin: 0 0.4em 0.5em 0.4em;box-sizing: border-box;padding-bottom: 0.4em;background-color: white;}#sk-container-id-1 div.sk-label label {font-family: monospace;font-weight: bold;display: inline-block;line-height: 1.2em;}#sk-container-id-1 div.sk-label-container {text-align: center;}#sk-container-id-1 div.sk-container {/* jupyter's `normalize.less` sets `[hidden] { display: none; }` but bootstrap.min.css set `[hidden] { display: none !important; }` so we also need the `!important` here to be able to override the default hidden behavior on the sphinx rendered scikit-learn.org. See: https://github.com/scikit-learn/scikit-learn/issues/21755 */display: inline-block !important;position: relative;}#sk-container-id-1 div.sk-text-repr-fallback {display: none;}</style><div id=\"sk-container-id-1\" class=\"sk-top-container\"><div class=\"sk-text-repr-fallback\"><pre>Pipeline(steps=[(&#x27;preprocess&#x27;,\n",
              "                 ColumnTransformer(transformers=[(&#x27;numerik&#x27;,\n",
              "                                                  Pipeline(steps=[(&#x27;impute &#x27;\n",
              "                                                                   &#x27;mean&#x27;,\n",
              "                                                                   SimpleImputer(strategy=&#x27;median&#x27;)),\n",
              "                                                                  (&#x27;winsorize&#x27;,\n",
              "                                                                   Winsorizer(capping_method=&#x27;iqr&#x27;,\n",
              "                                                                              fold=1.5,\n",
              "                                                                              tail=&#x27;both&#x27;)),\n",
              "                                                                  (&#x27;scaler&#x27;,\n",
              "                                                                   StandardScaler())]),\n",
              "                                                  [&#x27;building_size_m2&#x27;,\n",
              "                                                   &#x27;electricity&#x27;, &#x27;carports&#x27;,\n",
              "                                                   &#x27;garages&#x27;, &#x27;land_size_m2&#x27;,\n",
              "                                                   &#x27;maid_bathrooms&#x27;,\n",
              "                                                   &#x27;maid_bedrooms&#x27;,\n",
              "                                                   &#x27;year_built&#x27;, &#x27;bathrooms&#x27;,\n",
              "                                                   &#x27;bedrooms&#x27;]),\n",
              "                                                 (&#x27;kategorik&#x27;,\n",
              "                                                  Pipeline(steps=[(&#x27;impute &#x27;\n",
              "                                                                   &#x27;mode&#x27;,\n",
              "                                                                   SimpleImputer(strategy=&#x27;most_frequent&#x27;)),\n",
              "                                                                  (&#x27;onehotencoder&#x27;,\n",
              "                                                                   OneHotEncoder(handle_unknown=&#x27;ignore&#x27;))]),\n",
              "                                                  [&#x27;facilities&#x27;, &#x27;district&#x27;,\n",
              "                                                   &#x27;city&#x27;])])),\n",
              "                (&#x27;gradient_boosting&#x27;,\n",
              "                 GradientBoostingRegressor(random_state=42))])</pre><b>In a Jupyter environment, please rerun this cell to show the HTML representation or trust the notebook. <br />On GitHub, the HTML representation is unable to render, please try loading this page with nbviewer.org.</b></div><div class=\"sk-container\" hidden><div class=\"sk-item sk-dashed-wrapped\"><div class=\"sk-label-container\"><div class=\"sk-label sk-toggleable\"><input class=\"sk-toggleable__control sk-hidden--visually\" id=\"sk-estimator-id-1\" type=\"checkbox\" ><label for=\"sk-estimator-id-1\" class=\"sk-toggleable__label sk-toggleable__label-arrow\">Pipeline</label><div class=\"sk-toggleable__content\"><pre>Pipeline(steps=[(&#x27;preprocess&#x27;,\n",
              "                 ColumnTransformer(transformers=[(&#x27;numerik&#x27;,\n",
              "                                                  Pipeline(steps=[(&#x27;impute &#x27;\n",
              "                                                                   &#x27;mean&#x27;,\n",
              "                                                                   SimpleImputer(strategy=&#x27;median&#x27;)),\n",
              "                                                                  (&#x27;winsorize&#x27;,\n",
              "                                                                   Winsorizer(capping_method=&#x27;iqr&#x27;,\n",
              "                                                                              fold=1.5,\n",
              "                                                                              tail=&#x27;both&#x27;)),\n",
              "                                                                  (&#x27;scaler&#x27;,\n",
              "                                                                   StandardScaler())]),\n",
              "                                                  [&#x27;building_size_m2&#x27;,\n",
              "                                                   &#x27;electricity&#x27;, &#x27;carports&#x27;,\n",
              "                                                   &#x27;garages&#x27;, &#x27;land_size_m2&#x27;,\n",
              "                                                   &#x27;maid_bathrooms&#x27;,\n",
              "                                                   &#x27;maid_bedrooms&#x27;,\n",
              "                                                   &#x27;year_built&#x27;, &#x27;bathrooms&#x27;,\n",
              "                                                   &#x27;bedrooms&#x27;]),\n",
              "                                                 (&#x27;kategorik&#x27;,\n",
              "                                                  Pipeline(steps=[(&#x27;impute &#x27;\n",
              "                                                                   &#x27;mode&#x27;,\n",
              "                                                                   SimpleImputer(strategy=&#x27;most_frequent&#x27;)),\n",
              "                                                                  (&#x27;onehotencoder&#x27;,\n",
              "                                                                   OneHotEncoder(handle_unknown=&#x27;ignore&#x27;))]),\n",
              "                                                  [&#x27;facilities&#x27;, &#x27;district&#x27;,\n",
              "                                                   &#x27;city&#x27;])])),\n",
              "                (&#x27;gradient_boosting&#x27;,\n",
              "                 GradientBoostingRegressor(random_state=42))])</pre></div></div></div><div class=\"sk-serial\"><div class=\"sk-item sk-dashed-wrapped\"><div class=\"sk-label-container\"><div class=\"sk-label sk-toggleable\"><input class=\"sk-toggleable__control sk-hidden--visually\" id=\"sk-estimator-id-2\" type=\"checkbox\" ><label for=\"sk-estimator-id-2\" class=\"sk-toggleable__label sk-toggleable__label-arrow\">preprocess: ColumnTransformer</label><div class=\"sk-toggleable__content\"><pre>ColumnTransformer(transformers=[(&#x27;numerik&#x27;,\n",
              "                                 Pipeline(steps=[(&#x27;impute mean&#x27;,\n",
              "                                                  SimpleImputer(strategy=&#x27;median&#x27;)),\n",
              "                                                 (&#x27;winsorize&#x27;,\n",
              "                                                  Winsorizer(capping_method=&#x27;iqr&#x27;,\n",
              "                                                             fold=1.5,\n",
              "                                                             tail=&#x27;both&#x27;)),\n",
              "                                                 (&#x27;scaler&#x27;, StandardScaler())]),\n",
              "                                 [&#x27;building_size_m2&#x27;, &#x27;electricity&#x27;, &#x27;carports&#x27;,\n",
              "                                  &#x27;garages&#x27;, &#x27;land_size_m2&#x27;, &#x27;maid_bathrooms&#x27;,\n",
              "                                  &#x27;maid_bedrooms&#x27;, &#x27;year_built&#x27;, &#x27;bathrooms&#x27;,\n",
              "                                  &#x27;bedrooms&#x27;]),\n",
              "                                (&#x27;kategorik&#x27;,\n",
              "                                 Pipeline(steps=[(&#x27;impute mode&#x27;,\n",
              "                                                  SimpleImputer(strategy=&#x27;most_frequent&#x27;)),\n",
              "                                                 (&#x27;onehotencoder&#x27;,\n",
              "                                                  OneHotEncoder(handle_unknown=&#x27;ignore&#x27;))]),\n",
              "                                 [&#x27;facilities&#x27;, &#x27;district&#x27;, &#x27;city&#x27;])])</pre></div></div></div><div class=\"sk-parallel\"><div class=\"sk-parallel-item\"><div class=\"sk-item\"><div class=\"sk-label-container\"><div class=\"sk-label sk-toggleable\"><input class=\"sk-toggleable__control sk-hidden--visually\" id=\"sk-estimator-id-3\" type=\"checkbox\" ><label for=\"sk-estimator-id-3\" class=\"sk-toggleable__label sk-toggleable__label-arrow\">numerik</label><div class=\"sk-toggleable__content\"><pre>[&#x27;building_size_m2&#x27;, &#x27;electricity&#x27;, &#x27;carports&#x27;, &#x27;garages&#x27;, &#x27;land_size_m2&#x27;, &#x27;maid_bathrooms&#x27;, &#x27;maid_bedrooms&#x27;, &#x27;year_built&#x27;, &#x27;bathrooms&#x27;, &#x27;bedrooms&#x27;]</pre></div></div></div><div class=\"sk-serial\"><div class=\"sk-item\"><div class=\"sk-serial\"><div class=\"sk-item\"><div class=\"sk-estimator sk-toggleable\"><input class=\"sk-toggleable__control sk-hidden--visually\" id=\"sk-estimator-id-4\" type=\"checkbox\" ><label for=\"sk-estimator-id-4\" class=\"sk-toggleable__label sk-toggleable__label-arrow\">SimpleImputer</label><div class=\"sk-toggleable__content\"><pre>SimpleImputer(strategy=&#x27;median&#x27;)</pre></div></div></div><div class=\"sk-item\"><div class=\"sk-estimator sk-toggleable\"><input class=\"sk-toggleable__control sk-hidden--visually\" id=\"sk-estimator-id-5\" type=\"checkbox\" ><label for=\"sk-estimator-id-5\" class=\"sk-toggleable__label sk-toggleable__label-arrow\">Winsorizer</label><div class=\"sk-toggleable__content\"><pre>Winsorizer(capping_method=&#x27;iqr&#x27;, fold=1.5, tail=&#x27;both&#x27;)</pre></div></div></div><div class=\"sk-item\"><div class=\"sk-estimator sk-toggleable\"><input class=\"sk-toggleable__control sk-hidden--visually\" id=\"sk-estimator-id-6\" type=\"checkbox\" ><label for=\"sk-estimator-id-6\" class=\"sk-toggleable__label sk-toggleable__label-arrow\">StandardScaler</label><div class=\"sk-toggleable__content\"><pre>StandardScaler()</pre></div></div></div></div></div></div></div></div><div class=\"sk-parallel-item\"><div class=\"sk-item\"><div class=\"sk-label-container\"><div class=\"sk-label sk-toggleable\"><input class=\"sk-toggleable__control sk-hidden--visually\" id=\"sk-estimator-id-7\" type=\"checkbox\" ><label for=\"sk-estimator-id-7\" class=\"sk-toggleable__label sk-toggleable__label-arrow\">kategorik</label><div class=\"sk-toggleable__content\"><pre>[&#x27;facilities&#x27;, &#x27;district&#x27;, &#x27;city&#x27;]</pre></div></div></div><div class=\"sk-serial\"><div class=\"sk-item\"><div class=\"sk-serial\"><div class=\"sk-item\"><div class=\"sk-estimator sk-toggleable\"><input class=\"sk-toggleable__control sk-hidden--visually\" id=\"sk-estimator-id-8\" type=\"checkbox\" ><label for=\"sk-estimator-id-8\" class=\"sk-toggleable__label sk-toggleable__label-arrow\">SimpleImputer</label><div class=\"sk-toggleable__content\"><pre>SimpleImputer(strategy=&#x27;most_frequent&#x27;)</pre></div></div></div><div class=\"sk-item\"><div class=\"sk-estimator sk-toggleable\"><input class=\"sk-toggleable__control sk-hidden--visually\" id=\"sk-estimator-id-9\" type=\"checkbox\" ><label for=\"sk-estimator-id-9\" class=\"sk-toggleable__label sk-toggleable__label-arrow\">OneHotEncoder</label><div class=\"sk-toggleable__content\"><pre>OneHotEncoder(handle_unknown=&#x27;ignore&#x27;)</pre></div></div></div></div></div></div></div></div></div></div><div class=\"sk-item\"><div class=\"sk-estimator sk-toggleable\"><input class=\"sk-toggleable__control sk-hidden--visually\" id=\"sk-estimator-id-10\" type=\"checkbox\" ><label for=\"sk-estimator-id-10\" class=\"sk-toggleable__label sk-toggleable__label-arrow\">GradientBoostingRegressor</label><div class=\"sk-toggleable__content\"><pre>GradientBoostingRegressor(random_state=42)</pre></div></div></div></div></div></div></div>"
            ]
          },
          "metadata": {},
          "execution_count": 34
        }
      ]
    },
    {
      "cell_type": "code",
      "source": [
        "joblib.dump(gradient_boosting_pipeline, 'model_final_project')"
      ],
      "metadata": {
        "colab": {
          "base_uri": "https://localhost:8080/"
        },
        "id": "bdcr0kfocrLT",
        "outputId": "77bc926d-c546-4875-e0b1-2c95a1ed7a37"
      },
      "execution_count": 35,
      "outputs": [
        {
          "output_type": "execute_result",
          "data": {
            "text/plain": [
              "['model_final_project']"
            ]
          },
          "metadata": {},
          "execution_count": 35
        }
      ]
    },
    {
      "cell_type": "markdown",
      "source": [
        "# CONCLUSIONS AND OVERALL ANALYSIS"
      ],
      "metadata": {
        "id": "Rg1WOYpsY4vl"
      }
    },
    {
      "cell_type": "markdown",
      "source": [
        "**Conclusions:**\n",
        "\n",
        "1. Hasil dari penelitian menunjukkan adanya indikasi overfit sebelum dan setelah dilakukan tuning. Meskipun telah dilakukan penyetelan (tuning) pada model, terlihat bahwa hasil prediksi masih menunjukkan adanya perbedaan yang signifikan antara performa pada data latih dan data uji. Oleh karena itu, untuk meningkatkan kualitas model, kami merekomendasikan untuk lebih memperhatikan teknik penanganan overfitting, seperti pengaturan parameter yang lebih sesuai dan penggunaan teknik regularisasi yang tepat.\n",
        "\n",
        "2. Penelitian ini memberikan kontribusi yang berharga bagi pihak bank dalam operasionalnya, terutama di divisi yang berkaitan dengan penilaian aset, analisis risiko kredit, dan strategi pemasaran produk perumahan. Model prediksi harga rumah dapat membantu bank dalam melakukan penilaian cepat dan akurat terhadap harga rumah yang akan dijaminkan, memperbaiki proses pengambilan keputusan terkait kredit, serta menyediakan panduan dalam perencanaan pemasaran produk perumahan.\n",
        "\n",
        "**Overall Analysis:**\n",
        "\n",
        "Penelitian ini menggambarkan proses pengembangan dan penilaian model prediksi harga rumah dengan menggunakan berbagai metode regresi dan teknik pemrosesan data. Namun, hasil evaluasi menunjukkan adanya potensi overfitting pada model yang memerlukan perhatian lebih lanjut. Secara keseluruhan, penelitian ini menghadirkan peluang besar bagi pihak bank untuk meningkatkan efisiensi operasional, meningkatkan akurasi penilaian aset, dan mengoptimalkan strategi bisnis.\n",
        "\n",
        "Dalam aplikasi dunia perbankan, model prediksi harga rumah dapat diimplementasikan dalam beberapa cara yang bermanfaat:\n",
        "\n",
        "1. **Penilaian Kredit yang Lebih Cepat dan Akurat:** Dalam proses pengajuan kredit perumahan, bank dapat menggunakan model ini untuk mempercepat penilaian harga rumah yang diajukan sebagai jaminan. Hal ini akan membantu bank dalam mengambil keputusan kredit yang lebih cepat dan lebih akurat.\n",
        "\n",
        "2. **Analisis Risiko Kredit yang Lebih Mendalam:** Model prediksi harga rumah dapat menjadi komponen penting dalam analisis risiko kredit. Bank dapat menggabungkan informasi prediksi harga dengan data lainnya untuk mengukur risiko yang terkait dengan nilai aset yang dijaminkan dan membantu dalam menentukan besaran kredit yang sesuai.\n",
        "\n",
        "3. **Strategi Pemasaran Produk Perumahan:** Model ini juga dapat digunakan oleh tim pemasaran bank untuk mengidentifikasi segmen pasar potensial, merencanakan harga yang kompetitif, dan mengoptimalkan kampanye pemasaran produk perumahan.\n",
        "\n",
        "4. **Pengembangan Portofolio Produk:** Informasi prediksi harga rumah dapat membantu bank dalam mengembangkan portofolio produk perumahan yang lebih sesuai dengan preferensi dan potensi pasar, serta mengidentifikasi peluang investasi.\n",
        "\n",
        "Dengan mengimplementasikan model prediksi harga rumah, bank dapat meningkatkan efisiensi operasional, mengurangi risiko kredit, dan mengambil keputusan bisnis yang lebih cerdas dalam industri perbankan yang semakin kompetitif."
      ],
      "metadata": {
        "id": "RN2DTguWZldo"
      }
    }
  ],
  "metadata": {
    "kernelspec": {
      "display_name": "H8",
      "language": "python",
      "name": "python3"
    },
    "language_info": {
      "codemirror_mode": {
        "name": "ipython",
        "version": 3
      },
      "file_extension": ".py",
      "mimetype": "text/x-python",
      "name": "python",
      "nbconvert_exporter": "python",
      "pygments_lexer": "ipython3",
      "version": "3.8.16"
    },
    "orig_nbformat": 4,
    "colab": {
      "provenance": [],
      "toc_visible": true
    }
  },
  "nbformat": 4,
  "nbformat_minor": 0
}